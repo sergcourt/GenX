{
 "cells": [
  {
   "cell_type": "markdown",
   "metadata": {},
   "source": [
    "![](https://www.broadinstitute.org/files/images/GoogleGenomics.png)"
   ]
  },
  {
   "cell_type": "markdown",
   "metadata": {},
   "source": [
    "## GenX secondary analysis on GCP - GATK with new config"
   ]
  },
  {
   "cell_type": "markdown",
   "metadata": {},
   "source": [
    "#### Fist,  let's pull in some git repos "
   ]
  },
  {
   "cell_type": "code",
   "execution_count": null,
   "metadata": {
    "collapsed": false
   },
   "outputs": [],
   "source": [
    "%%bash\n",
    "git clone https://github.com/googlegenomics/pipelines-api-examples.git  #to run it on GCP\n",
    "git clone https://github.com/broadinstitute/wdl.git                     #the actual wdl scripts running the algos  \n",
    "git clone https://github.com/openwdl/wdl.git open_wdl                   # use a yaml from G (skip if you write your own)  "
   ]
  },
  {
   "cell_type": "code",
   "execution_count": 4,
   "metadata": {
    "collapsed": false
   },
   "outputs": [
    {
     "data": {
      "text/html": [
       "\n",
       "          <script src=\"/static/components/requirejs/require.js\"></script>\n",
       "          <script>\n",
       "            requirejs.config({\n",
       "              paths: {\n",
       "                base: '/static/base',\n",
       "              },\n",
       "            });\n",
       "          </script>\n",
       "          "
      ],
      "text/plain": [
       "<IPython.core.display.HTML object>"
      ]
     },
     "metadata": {},
     "output_type": "display_data"
    },
    {
     "name": "stdout",
     "output_type": "stream",
     "text": [
      "GenX_demo.ipynb  \u001b[0m\u001b[01;34mopen_wdl\u001b[0m/  \u001b[01;34mpipelines-api-examples\u001b[0m/  \u001b[01;34mwdl\u001b[0m/\r\n"
     ]
    }
   ],
   "source": [
    "ls"
   ]
  },
  {
   "cell_type": "markdown",
   "metadata": {},
   "source": [
    "### Let's see what the input (reference and test genomes) looks like"
   ]
  },
  {
   "cell_type": "code",
   "execution_count": 4,
   "metadata": {
    "collapsed": false
   },
   "outputs": [
    {
     "data": {
      "text/html": [
       "\n",
       "          <script src=\"/static/components/requirejs/require.js\"></script>\n",
       "          <script>\n",
       "            requirejs.config({\n",
       "              paths: {\n",
       "                base: '/static/base',\n",
       "              },\n",
       "            });\n",
       "          </script>\n",
       "          "
      ],
      "text/plain": [
       "<IPython.core.display.HTML object>"
      ]
     },
     "metadata": {},
     "output_type": "display_data"
    },
    {
     "name": "stdout",
     "output_type": "stream",
     "text": [
      "{\n",
      "  \"##_COMMENT1\": \"SAMPLE-SPECIFIC - MUST BE ADAPTED TO YOUR DATA !!! (fingerprint file is optional -- comment out if unavailable)\",\n",
      "  \"PairedEndSingleSampleWorkflow.sample_name\": \"NA12878\",\n",
      "  \"PairedEndSingleSampleWorkflow.base_file_name\": \"NA12878\",\n",
      "  \"PairedEndSingleSampleWorkflow.flowcell_unmapped_bams\": [\n",
      "    \"gs://genomics-public-data/test-data/dna/wgs/hiseq2500/NA12878/H06HDADXX130110.1.ATCACGAT.20k_reads.bam\",\n",
      "    \"gs://genomics-public-data/test-data/dna/wgs/hiseq2500/NA12878/H06HDADXX130110.2.ATCACGAT.20k_reads.bam\",\n",
      "    \"gs://genomics-public-data/test-data/dna/wgs/hiseq2500/NA12878/H06JUADXX130110.1.ATCACGAT.20k_reads.bam\"\n",
      "  ],\n",
      "  \"PairedEndSingleSampleWorkflow.final_gvcf_name\": \"NA12878.g.vcf.gz\",\n",
      "  \"PairedEndSingleSampleWorkflow.fingerprint_genotypes_file\": \"gs://dsde-data-na12878-public/NA12878.hg38.reference.fingerprint.vcf\",\n",
      "\n",
      "  \"##_COMMENT2\": \"INTERVALS\", \n",
      "  \"PairedEndSingleSampleWorkflow.wgs_calling_interval_list\": \"gs://broad-references/hg38/v0/wgs_calling_regions.hg38.interval_list\",\n",
      "  \"PairedEndSingleSampleWorkflow.wgs_coverage_interval_list\": \"gs://broad-references/hg38/v0/wgs_coverage_regions.hg38.interval_list\",\n",
      "  \"PairedEndSingleSampleWorkflow.wgs_evaluation_interval_list\": \"gs://broad-references/hg38/v0/wgs_evaluation_regions.hg38.interval_list\",\n",
      "\n",
      "  \"##_COMMENT2\": \"REFERENCE FILES\", \n",
      "  \"PairedEndSingleSampleWorkflow.ref_fasta\": \"gs://broad-references/hg38/v0/Homo_sapiens_assembly38.fasta\",\n",
      "  \"PairedEndSingleSampleWorkflow.ref_fasta_index\": \"gs://broad-references/hg38/v0/Homo_sapiens_assembly38.fasta.fai\",\n",
      "  \"PairedEndSingleSampleWorkflow.ref_dict\": \"gs://broad-references/hg38/v0/Homo_sapiens_assembly38.dict\",\n",
      "  \"PairedEndSingleSampleWorkflow.ref_alt\": \"gs://broad-references/hg38/v0/Homo_sapiens_assembly38.fasta.64.alt\",\n",
      "  \"PairedEndSingleSampleWorkflow.ref_amb\": \"gs://broad-references/hg38/v0/Homo_sapiens_assembly38.fasta.64.amb\",\n",
      "  \"PairedEndSingleSampleWorkflow.ref_ann\": \"gs://broad-references/hg38/v0/Homo_sapiens_assembly38.fasta.64.ann\",\n",
      "  \"PairedEndSingleSampleWorkflow.ref_bwt\": \"gs://broad-references/hg38/v0/Homo_sapiens_assembly38.fasta.64.bwt\",\n",
      "  \"PairedEndSingleSampleWorkflow.ref_pac\": \"gs://broad-references/hg38/v0/Homo_sapiens_assembly38.fasta.64.pac\",\n",
      "  \"PairedEndSingleSampleWorkflow.ref_sa\": \"gs://broad-references/hg38/v0/Homo_sapiens_assembly38.fasta.64.sa\",\n",
      "\n",
      "  \"##_COMMENT3\": \"KNOWN SITES RESOURCES\", \n",
      "  \"PairedEndSingleSampleWorkflow.dbSNP_vcf\": \"gs://broad-references/hg38/v0/Homo_sapiens_assembly38.dbsnp138.vcf\",\n",
      "  \"PairedEndSingleSampleWorkflow.dbSNP_vcf_index\": \"gs://broad-references/hg38/v0/Homo_sapiens_assembly38.dbsnp138.vcf.idx\",\n",
      "  \"PairedEndSingleSampleWorkflow.known_indels_sites_VCFs\": [\n",
      "  \t\"gs://broad-references/hg38/v0/Mills_and_1000G_gold_standard.indels.hg38.vcf.gz\",\n",
      "    \"gs://broad-references/hg38/v0/Homo_sapiens_assembly38.known_indels.vcf.gz\"\n",
      "  ],\n",
      "  \"PairedEndSingleSampleWorkflow.known_indels_sites_indices\": [\n",
      "    \"gs://broad-references/hg38/v0/Mills_and_1000G_gold_standard.indels.hg38.vcf.gz.tbi\",\n",
      "    \"gs://broad-references/hg38/v0/Homo_sapiens_assembly38.known_indels.vcf.gz.tbi\"\n",
      "  ],\n",
      "\n",
      "  \"##_COMMENT4\": \"QUALITY CONTROL RESOURCES\",\n",
      "  \"PairedEndSingleSampleWorkflow.contamination_sites_bed\": \"gs://broad-references/hg38/v0/Homo_sapiens_assembly38.contam.bed\",\n",
      "  \"PairedEndSingleSampleWorkflow.contamination_sites_mu\": \"gs://broad-references/hg38/v0/Homo_sapiens_assembly38.contam.mu\",\n",
      "  \"PairedEndSingleSampleWorkflow.contamination_sites_ud\": \"gs://broad-references/hg38/v0/Homo_sapiens_assembly38.contam.UD\",\n",
      "  \"##_PairedEndSingleSampleWorkflow.haplotype_database_file\": \"(optional) String?\",\n",
      "\n",
      "  \"##_COMMENT5\": \"MISC PARAMETERS\",\n",
      "  \"PairedEndSingleSampleWorkflow.unmapped_bam_suffix\": \".unmapped.bam\",\n",
      "  \"PairedEndSingleSampleWorkflow.haplotype_scatter_count\": 50,\n",
      "  \"PairedEndSingleSampleWorkflow.break_bands_at_multiples_of\": 1000000,\n",
      "  \"##_PairedEndSingleSampleWorkflow.read_length\": \"(optional) Int?\",\n",
      "  \"##_PairedEndSingleSampleWorkflow.MarkDuplicates.read_name_regex\": \"(optional) String?\",\n",
      "  \n",
      "  \"##_COMMENT6\": \"RUNTIME PARAMETERS\",\n",
      "  \"PairedEndSingleSampleWorkflow.agg_preemptible_tries\": 3,\n",
      "  \"PairedEndSingleSampleWorkflow.preemptible_tries\": 3,\n",
      "  \"##_PairedEndSingleSampleWorkflow.increase_disk_size\": \"(optional) Int?\"\n",
      "}\n"
     ]
    }
   ],
   "source": [
    "%%bash\n",
    "cat wdl/scripts/broad_pipelines/germline-short-variant-discovery/gvcf-generation-per-sample/1.0.0/GOTC_PairedEndSingleSampleWf.inputs.json"
   ]
  },
  {
   "cell_type": "markdown",
   "metadata": {},
   "source": [
    "#### Lets take a look at the  yaml config file"
   ]
  },
  {
   "cell_type": "code",
   "execution_count": 5,
   "metadata": {
    "collapsed": false
   },
   "outputs": [
    {
     "data": {
      "text/html": [
       "\n",
       "          <script src=\"/static/components/requirejs/require.js\"></script>\n",
       "          <script>\n",
       "            requirejs.config({\n",
       "              paths: {\n",
       "                base: '/static/base',\n",
       "              },\n",
       "            });\n",
       "          </script>\n",
       "          "
      ],
      "text/plain": [
       "<IPython.core.display.HTML object>"
      ]
     },
     "metadata": {},
     "output_type": "display_data"
    },
    {
     "name": "stdout",
     "output_type": "stream",
     "text": [
      "name: WDL Runner\n",
      "description: Run a workflow defined by a WDL file\n",
      "\n",
      "inputParameters:\n",
      "- name: WDL\n",
      "  description: Workflow definition\n",
      "- name: WORKFLOW_INPUTS\n",
      "  description: Workflow inputs\n",
      "- name: WORKFLOW_OPTIONS\n",
      "  description: Workflow options\n",
      "\n",
      "- name: WORKSPACE\n",
      "  description: Cloud Storage path for intermediate files\n",
      "- name: OUTPUTS\n",
      "  description: Cloud Storage path for output files\n",
      "\n",
      "docker:\n",
      "  imageName: gcr.io/broad-dsde-outreach/wdl_runner:2017_10_02\n",
      "\n",
      "  cmd: >\n",
      "    /wdl_runner/wdl_runner.sh\n",
      "\n",
      "resources:\n",
      "  minimumRamGb: 3.75\n"
     ]
    }
   ],
   "source": [
    "%%bash\n",
    "cat open_wdl/runners/cromwell_on_google/wdl_runner/wdl_pipeline.yaml \\"
   ]
  },
  {
   "cell_type": "markdown",
   "metadata": {},
   "source": [
    "#### Create bucket for outputs/logs etc. (if you don't have it)"
   ]
  },
  {
   "cell_type": "code",
   "execution_count": 6,
   "metadata": {
    "collapsed": false
   },
   "outputs": [
    {
     "data": {
      "text/html": [
       "\n",
       "          <script src=\"/static/components/requirejs/require.js\"></script>\n",
       "          <script>\n",
       "            requirejs.config({\n",
       "              paths: {\n",
       "                base: '/static/base',\n",
       "              },\n",
       "            });\n",
       "          </script>\n",
       "          "
      ],
      "text/plain": [
       "<IPython.core.display.HTML object>"
      ]
     },
     "metadata": {},
     "output_type": "display_data"
    },
    {
     "name": "stdout",
     "output_type": "stream",
     "text": [
      "gs://sv-ml-sandbox/\n",
      "gs://sv-tf-model-1/\n",
      "gs://sv-vdv-output1/\n"
     ]
    }
   ],
   "source": [
    "%%bash\n",
    "gsutil ls"
   ]
  },
  {
   "cell_type": "code",
   "execution_count": 8,
   "metadata": {
    "collapsed": false
   },
   "outputs": [
    {
     "data": {
      "text/html": [
       "\n",
       "          <script src=\"/static/components/requirejs/require.js\"></script>\n",
       "          <script>\n",
       "            requirejs.config({\n",
       "              paths: {\n",
       "                base: '/static/base',\n",
       "              },\n",
       "            });\n",
       "          </script>\n",
       "          "
      ],
      "text/plain": [
       "<IPython.core.display.HTML object>"
      ]
     },
     "metadata": {},
     "output_type": "display_data"
    },
    {
     "data": {
      "text/plain": [
       "u'/content/datalab/notebooks/SV_notebooks/GenX'"
      ]
     },
     "execution_count": 8,
     "metadata": {},
     "output_type": "execute_result"
    }
   ],
   "source": [
    "pwd"
   ]
  },
  {
   "cell_type": "markdown",
   "metadata": {},
   "source": [
    "![](http://www.broadinstitute.org/gatk/img/GATK_BPP_white.gif)"
   ]
  },
  {
   "cell_type": "markdown",
   "metadata": {},
   "source": [
    "#### configure the pipeline and kick it off"
   ]
  },
  {
   "cell_type": "code",
   "execution_count": 10,
   "metadata": {
    "collapsed": false
   },
   "outputs": [
    {
     "data": {
      "text/html": [
       "\n",
       "          <script src=\"/static/components/requirejs/require.js\"></script>\n",
       "          <script>\n",
       "            requirejs.config({\n",
       "              paths: {\n",
       "                base: '/static/base',\n",
       "              },\n",
       "            });\n",
       "          </script>\n",
       "          "
      ],
      "text/plain": [
       "<IPython.core.display.HTML object>"
      ]
     },
     "metadata": {},
     "output_type": "display_data"
    },
    {
     "name": "stderr",
     "output_type": "stream",
     "text": [
      "Running [operations/EI7s8d2NLBjXj-attNPAowog4r3yw4IMKg9wcm9kdWN0aW9uUXVldWU].\n"
     ]
    }
   ],
   "source": [
    "%%bash\n",
    "\n",
    "gcloud alpha genomics pipelines run \\\n",
    "  --pipeline-file /content/datalab/notebooks/SV_notebooks/GenX/open_wdl/runners/cromwell_on_google/wdl_runner/wdl_pipeline.yaml \\\n",
    "  --zones us-central1-f \\\n",
    "  --memory 5 \\\n",
    "  --logging gs://sv-ml-sandbox/logging \\\n",
    "  --inputs-from-file WDL=/content/datalab/notebooks/SV_notebooks/GenX/wdl/scripts/broad_pipelines/germline-short-variant-discovery/gvcf-generation-per-sample/0.2.0/PublicPairedSingleSampleWf_170412.wdl \\\n",
    "  --inputs-from-file WORKFLOW_INPUTS=/content/datalab/notebooks/SV_notebooks/GenX/wdl/scripts/broad_pipelines/germline-short-variant-discovery/gvcf-generation-per-sample/0.2.0/PublicPairedSingleSampleWf_170412.inputs.json \\\n",
    "  --inputs-from-file WORKFLOW_OPTIONS=/content/datalab/notebooks/SV_notebooks/GenX/wdl/scripts/broad_pipelines/germline-short-variant-discovery/gvcf-generation-per-sample/0.2.0/PublicPairedSingleSampleWf_170412.options.json\\\n",
    "  --inputs WORKSPACE=gs://sv-ml-sandbox/workspace \\\n",
    "  --inputs OUTPUTS=gs://sv-ml-sandbox/outputs"
   ]
  },
  {
   "cell_type": "markdown",
   "metadata": {},
   "source": [
    "![](http://www.imageno.com/image.php?id=4rmhohgrwxgm&kk=17753044)"
   ]
  },
  {
   "cell_type": "markdown",
   "metadata": {},
   "source": [
    "#### verify status of pipeline"
   ]
  },
  {
   "cell_type": "code",
   "execution_count": 12,
   "metadata": {
    "collapsed": false
   },
   "outputs": [
    {
     "data": {
      "text/html": [
       "\n",
       "          <script src=\"/static/components/requirejs/require.js\"></script>\n",
       "          <script>\n",
       "            requirejs.config({\n",
       "              paths: {\n",
       "                base: '/static/base',\n",
       "              },\n",
       "            });\n",
       "          </script>\n",
       "          "
      ],
      "text/plain": [
       "<IPython.core.display.HTML object>"
      ]
     },
     "metadata": {},
     "output_type": "display_data"
    },
    {
     "name": "stderr",
     "output_type": "stream",
     "text": [
      "done: false\n",
      "metadata:\n",
      "  events:\n",
      "  - description: start\n",
      "    startTime: '2018-01-09T16:24:31.676287835Z'\n",
      "  - description: pulling-image\n",
      "    startTime: '2018-01-09T16:24:31.676350602Z'\n",
      "\n",
      "This operation will be canceled\n",
      "\n",
      "Do you want to continue (Y/n)?  \n",
      "Canceled [operations/EI7s8d2NLBjXj-attNPAowog4r3yw4IMKg9wcm9kdWN0aW9uUXVldWU].\n"
     ]
    }
   ],
   "source": [
    "%%bash \n",
    "gcloud alpha genomics operations cancel EI7s8d2NLBjXj-attNPAowog4r3yw4IMKg9wcm9kdWN0aW9uUXVldWU --format='yaml(done, error, metadata.events)'"
   ]
  },
  {
   "cell_type": "markdown",
   "metadata": {},
   "source": [
    "#### also verify pipeline stages in pantheon and in the bucket"
   ]
  },
  {
   "cell_type": "code",
   "execution_count": 13,
   "metadata": {
    "collapsed": false
   },
   "outputs": [
    {
     "data": {
      "text/html": [
       "\n",
       "          <script src=\"/static/components/requirejs/require.js\"></script>\n",
       "          <script>\n",
       "            requirejs.config({\n",
       "              paths: {\n",
       "                base: '/static/base',\n",
       "              },\n",
       "            });\n",
       "          </script>\n",
       "          "
      ],
      "text/plain": [
       "<IPython.core.display.HTML object>"
      ]
     },
     "metadata": {},
     "output_type": "display_data"
    },
    {
     "name": "stdout",
     "output_type": "stream",
     "text": [
      "gs://sv-ml-sandbox/logging/\n",
      "gs://sv-ml-sandbox/outputs/\n",
      "gs://sv-ml-sandbox/workspace/\n"
     ]
    }
   ],
   "source": [
    "%%bash \n",
    "gsutil ls gs://sv-ml-sandbox/"
   ]
  },
  {
   "cell_type": "code",
   "execution_count": 14,
   "metadata": {
    "collapsed": false
   },
   "outputs": [
    {
     "data": {
      "text/html": [
       "\n",
       "          <script src=\"/static/components/requirejs/require.js\"></script>\n",
       "          <script>\n",
       "            requirejs.config({\n",
       "              paths: {\n",
       "                base: '/static/base',\n",
       "              },\n",
       "            });\n",
       "          </script>\n",
       "          "
      ],
      "text/plain": [
       "<IPython.core.display.HTML object>"
      ]
     },
     "metadata": {},
     "output_type": "display_data"
    },
    {
     "name": "stdout",
     "output_type": "stream",
     "text": [
      "gs://sv-ml-sandbox/outputs/H06HDADXX130110.1.ATCACGAT.20k_reads.readgroup.base_distribution_by_cycle.pdf\n",
      "gs://sv-ml-sandbox/outputs/H06HDADXX130110.1.ATCACGAT.20k_reads.readgroup.base_distribution_by_cycle_metrics\n",
      "gs://sv-ml-sandbox/outputs/H06HDADXX130110.1.ATCACGAT.20k_reads.readgroup.insert_size_histogram.pdf\n",
      "gs://sv-ml-sandbox/outputs/H06HDADXX130110.1.ATCACGAT.20k_reads.readgroup.insert_size_metrics\n",
      "gs://sv-ml-sandbox/outputs/H06HDADXX130110.1.ATCACGAT.20k_reads.readgroup.quality_by_cycle.pdf\n",
      "gs://sv-ml-sandbox/outputs/H06HDADXX130110.1.ATCACGAT.20k_reads.readgroup.quality_by_cycle_metrics\n",
      "gs://sv-ml-sandbox/outputs/H06HDADXX130110.1.ATCACGAT.20k_reads.readgroup.quality_distribution.pdf\n",
      "gs://sv-ml-sandbox/outputs/H06HDADXX130110.1.ATCACGAT.20k_reads.readgroup.quality_distribution_metrics\n",
      "gs://sv-ml-sandbox/outputs/H06HDADXX130110.1.ATCACGAT.20k_reads.unmapped.quality_yield_metrics\n",
      "gs://sv-ml-sandbox/outputs/H06HDADXX130110.1.ATCACGAT.20k_reads.validation_report\n",
      "gs://sv-ml-sandbox/outputs/H06HDADXX130110.2.ATCACGAT.20k_reads.readgroup.base_distribution_by_cycle.pdf\n",
      "gs://sv-ml-sandbox/outputs/H06HDADXX130110.2.ATCACGAT.20k_reads.readgroup.base_distribution_by_cycle_metrics\n",
      "gs://sv-ml-sandbox/outputs/H06HDADXX130110.2.ATCACGAT.20k_reads.readgroup.insert_size_histogram.pdf\n",
      "gs://sv-ml-sandbox/outputs/H06HDADXX130110.2.ATCACGAT.20k_reads.readgroup.insert_size_metrics\n",
      "gs://sv-ml-sandbox/outputs/H06HDADXX130110.2.ATCACGAT.20k_reads.readgroup.quality_by_cycle.pdf\n",
      "gs://sv-ml-sandbox/outputs/H06HDADXX130110.2.ATCACGAT.20k_reads.readgroup.quality_by_cycle_metrics\n",
      "gs://sv-ml-sandbox/outputs/H06HDADXX130110.2.ATCACGAT.20k_reads.readgroup.quality_distribution.pdf\n",
      "gs://sv-ml-sandbox/outputs/H06HDADXX130110.2.ATCACGAT.20k_reads.readgroup.quality_distribution_metrics\n",
      "gs://sv-ml-sandbox/outputs/H06HDADXX130110.2.ATCACGAT.20k_reads.unmapped.quality_yield_metrics\n",
      "gs://sv-ml-sandbox/outputs/H06HDADXX130110.2.ATCACGAT.20k_reads.validation_report\n",
      "gs://sv-ml-sandbox/outputs/H06JUADXX130110.1.ATCACGAT.20k_reads.readgroup.base_distribution_by_cycle.pdf\n",
      "gs://sv-ml-sandbox/outputs/H06JUADXX130110.1.ATCACGAT.20k_reads.readgroup.base_distribution_by_cycle_metrics\n",
      "gs://sv-ml-sandbox/outputs/H06JUADXX130110.1.ATCACGAT.20k_reads.readgroup.insert_size_histogram.pdf\n",
      "gs://sv-ml-sandbox/outputs/H06JUADXX130110.1.ATCACGAT.20k_reads.readgroup.insert_size_metrics\n",
      "gs://sv-ml-sandbox/outputs/H06JUADXX130110.1.ATCACGAT.20k_reads.readgroup.quality_by_cycle.pdf\n",
      "gs://sv-ml-sandbox/outputs/H06JUADXX130110.1.ATCACGAT.20k_reads.readgroup.quality_by_cycle_metrics\n",
      "gs://sv-ml-sandbox/outputs/H06JUADXX130110.1.ATCACGAT.20k_reads.readgroup.quality_distribution.pdf\n",
      "gs://sv-ml-sandbox/outputs/H06JUADXX130110.1.ATCACGAT.20k_reads.readgroup.quality_distribution_metrics\n",
      "gs://sv-ml-sandbox/outputs/H06JUADXX130110.1.ATCACGAT.20k_reads.unmapped.quality_yield_metrics\n",
      "gs://sv-ml-sandbox/outputs/H06JUADXX130110.1.ATCACGAT.20k_reads.validation_report\n",
      "gs://sv-ml-sandbox/outputs/NA12878.g.vcf.gz\n",
      "gs://sv-ml-sandbox/outputs/NA12878.g.vcf.gz.tbi\n",
      "gs://sv-ml-sandbox/outputs/NA12878_20k.aligned.duplicates_marked.recalibrated.bam.read_group_md5\n",
      "gs://sv-ml-sandbox/outputs/NA12878_20k.alignment_summary_metrics\n",
      "gs://sv-ml-sandbox/outputs/NA12878_20k.bait_bias_detail_metrics\n",
      "gs://sv-ml-sandbox/outputs/NA12878_20k.bait_bias_summary_metrics\n",
      "gs://sv-ml-sandbox/outputs/NA12878_20k.bam.roundtrip.validation_report\n",
      "gs://sv-ml-sandbox/outputs/NA12878_20k.crai\n",
      "gs://sv-ml-sandbox/outputs/NA12878_20k.cram\n",
      "gs://sv-ml-sandbox/outputs/NA12878_20k.cram.md5\n",
      "gs://sv-ml-sandbox/outputs/NA12878_20k.crosscheck\n",
      "gs://sv-ml-sandbox/outputs/NA12878_20k.duplicate_metrics\n",
      "gs://sv-ml-sandbox/outputs/NA12878_20k.fingerprinting_detail_metrics\n",
      "gs://sv-ml-sandbox/outputs/NA12878_20k.fingerprinting_summary_metrics\n",
      "gs://sv-ml-sandbox/outputs/NA12878_20k.gc_bias.detail_metrics\n",
      "gs://sv-ml-sandbox/outputs/NA12878_20k.gc_bias.pdf\n",
      "gs://sv-ml-sandbox/outputs/NA12878_20k.gc_bias.summary_metrics\n",
      "gs://sv-ml-sandbox/outputs/NA12878_20k.insert_size_histogram.pdf\n",
      "gs://sv-ml-sandbox/outputs/NA12878_20k.insert_size_metrics\n",
      "gs://sv-ml-sandbox/outputs/NA12878_20k.preBqsr.depthSM\n",
      "gs://sv-ml-sandbox/outputs/NA12878_20k.preBqsr.log\n",
      "gs://sv-ml-sandbox/outputs/NA12878_20k.preBqsr.selfSM\n",
      "gs://sv-ml-sandbox/outputs/NA12878_20k.pre_adapter_detail_metrics\n",
      "gs://sv-ml-sandbox/outputs/NA12878_20k.pre_adapter_summary_metrics\n",
      "gs://sv-ml-sandbox/outputs/NA12878_20k.quality_distribution.pdf\n",
      "gs://sv-ml-sandbox/outputs/NA12878_20k.quality_distribution_metrics\n",
      "gs://sv-ml-sandbox/outputs/NA12878_20k.raw_wgs_metrics\n",
      "gs://sv-ml-sandbox/outputs/NA12878_20k.readgroup.alignment_summary_metrics\n",
      "gs://sv-ml-sandbox/outputs/NA12878_20k.readgroup.gc_bias.detail_metrics\n",
      "gs://sv-ml-sandbox/outputs/NA12878_20k.readgroup.gc_bias.pdf\n",
      "gs://sv-ml-sandbox/outputs/NA12878_20k.readgroup.gc_bias.summary_metrics\n",
      "gs://sv-ml-sandbox/outputs/NA12878_20k.recal_data.csv\n",
      "gs://sv-ml-sandbox/outputs/NA12878_20k.validation_report\n",
      "gs://sv-ml-sandbox/outputs/NA12878_20k.variant_calling_detail_metrics\n",
      "gs://sv-ml-sandbox/outputs/NA12878_20k.variant_calling_summary_metrics\n",
      "gs://sv-ml-sandbox/outputs/NA12878_20k.wgs_metrics\n",
      "gs://sv-ml-sandbox/outputs/wdl_run_metadata.json\n"
     ]
    }
   ],
   "source": [
    "%%bash \n",
    "gsutil ls gs://sv-ml-sandbox/outputs"
   ]
  },
  {
   "cell_type": "markdown",
   "metadata": {},
   "source": [
    "![]("
   ]
  },
  {
   "cell_type": "markdown",
   "metadata": {},
   "source": [
    "# GWAS"
   ]
  },
  {
   "cell_type": "markdown",
   "metadata": {},
   "source": [
    "## Genomics Tertiary analysis on GCP"
   ]
  },
  {
   "cell_type": "markdown",
   "metadata": {},
   "source": [
    "### Design\n",
    "\n",
    "We'll be replicating a clinical study: Control Group and Test Group. \n",
    "One will be the reference and the other will the phenotype carrier (plug in here any pathology worth investigating at the Genetic level)\n",
    "\n",
    "Our goal is to filter through BILLIONS of variants and pnpoint only the variant calls (for the sake of time  we'll do this within one chromosome, let's say the #12) that differs significantly between the case and control groups. If we can identify and isolate that we'll have a good chance of identifying a 'genenotype phenotype causality' (in other words identify what a the genetic level creates the pathology - in real life/research is not that easy but this is just a demo)\n",
    "\n",
    "The case group for the purposes of this notebook will be individuals from the \"EAS\" (East Asian) super population. Variant data from the 1000 genomes dataset is publicly accessible within BigQuery.\n",
    "\n",
    "We'll make the EAS group our test group and use the rest of the 1000 genomes as the control group.\n",
    "\n",
    "We'll compare them and isolate the most meaningful differences"
   ]
  },
  {
   "cell_type": "code",
   "execution_count": 5,
   "metadata": {
    "collapsed": false
   },
   "outputs": [
    {
     "data": {
      "text/html": [
       "\n",
       "          <script src=\"/static/components/requirejs/require.js\"></script>\n",
       "          <script>\n",
       "            requirejs.config({\n",
       "              paths: {\n",
       "                base: '/static/base',\n",
       "              },\n",
       "            });\n",
       "          </script>\n",
       "          "
      ],
      "text/plain": [
       "<IPython.core.display.HTML object>"
      ]
     },
     "metadata": {},
     "output_type": "display_data"
    },
    {
     "data": {
      "text/html": [
       "\n",
       "    <div class=\"bqsv\" id=\"2_151555153480\"></div>\n",
       "    <script>\n",
       "      require.config({\n",
       "        map: {\n",
       "          '*': {\n",
       "            datalab: 'nbextensions/gcpdatalab'\n",
       "          }\n",
       "        },\n",
       "      });\n",
       "\n",
       "      require(['datalab/bigquery', 'datalab/element!2_151555153480',\n",
       "          'datalab/style!/nbextensions/gcpdatalab/bigquery.css'],\n",
       "        function(bq, dom) {\n",
       "          bq.renderSchema(dom, [{\"description\": \"An identifier from the reference genome or an angle-bracketed ID String pointing to a contig in the assembly file.\", \"type\": \"STRING\", \"name\": \"reference_name\", \"mode\": \"NULLABLE\"}, {\"description\": \"The reference position, with the first base having position 0.\", \"type\": \"INTEGER\", \"name\": \"start\", \"mode\": \"NULLABLE\"}, {\"description\": \"INFO=<ID=END,Number=1,Type=Integer,Description=\\\"End position of the variant described in this record\\\">\", \"type\": \"INTEGER\", \"name\": \"end\", \"mode\": \"NULLABLE\"}, {\"description\": \"Each base must be one of A,C,G,T,N (case insensitive). Multiple bases are permitted. The value in the POS field refers to the position of the first base in the String.\", \"type\": \"STRING\", \"name\": \"reference_bases\", \"mode\": \"NULLABLE\"}, {\"description\": \"List of alternate non-reference alleles called on at least one of the samples. (\\\"at least one\\\" not true for this dataset)\", \"type\": \"STRING\", \"name\": \"alternate_bases\", \"mode\": \"REPEATED\"}, {\"description\": \"phred-scaled quality score for the assertion made in ALT.\", \"type\": \"FLOAT\", \"name\": \"quality\", \"mode\": \"NULLABLE\"}, {\"description\": \"PASS if this position has passed all filters, i.e. a call is made at this position. Otherwise, if the site has not passed all filters, a list of codes for filters that fail.\", \"type\": \"STRING\", \"name\": \"filter\", \"mode\": \"REPEATED\"}, {\"description\": \"List of unique identifiers for the variant where available.\", \"type\": \"STRING\", \"name\": \"names\", \"mode\": \"REPEATED\"}, {\"fields\": [{\"description\": \"The id of the callset from which this data was exported from the Google Genomics Variants API.\", \"type\": \"STRING\", \"name\": \"call_set_id\", \"mode\": \"NULLABLE\"}, {\"description\": \"Sample identifier.\", \"type\": \"STRING\", \"name\": \"call_set_name\", \"mode\": \"NULLABLE\"}, {\"description\": \"List of genotypes.\", \"type\": \"INTEGER\", \"name\": \"genotype\", \"mode\": \"REPEATED\"}, {\"description\": \"If this value is null, the data is unphased.  Otherwise it is phased.\", \"type\": \"STRING\", \"name\": \"phaseset\", \"mode\": \"NULLABLE\"}, {\"description\": \"List of genotype likelihoods.\", \"type\": \"FLOAT\", \"name\": \"genotype_likelihood\", \"mode\": \"REPEATED\"}, {\"description\": \"FORMAT=<ID=DP,Number=1,Type=Integer,Description=\\\"# high-quality bases\\\">\", \"type\": \"INTEGER\", \"name\": \"DP\", \"mode\": \"NULLABLE\"}, {\"description\": \"FORMAT=<ID=DS,Number=1,Type=Float,Description=\\\"Genotype dosage from MaCH/Thunder\\\">\", \"type\": \"FLOAT\", \"name\": \"DS\", \"mode\": \"NULLABLE\"}, {\"type\": \"STRING\", \"name\": \"FT\", \"mode\": \"NULLABLE\"}, {\"description\": \"FORMAT=<ID=GQ,Number=1,Type=Float,Description=\\\"Genotype quality\\\">\", \"type\": \"STRING\", \"name\": \"GQ\", \"mode\": \"NULLABLE\"}, {\"description\": \"FORMAT=<ID=PL,Number=.,Type=Integer,Description=\\\"List of Phred-scaled genotype likelihoods, number of values is (#ALT+1)*(#ALT+2)/2\\\">\", \"type\": \"INTEGER\", \"name\": \"PL\", \"mode\": \"REPEATED\"}, {\"description\": \"FORMAT=<ID=SP,Number=1,Type=Integer,Description=\\\"Phred-scaled strand bias P-value\\\">\", \"type\": \"INTEGER\", \"name\": \"SP\", \"mode\": \"NULLABLE\"}], \"description\": \"Per-sample measurements.\", \"type\": \"RECORD\", \"name\": \"call\", \"mode\": \"REPEATED\"}, {\"description\": \"INFO=<ID=AA,Number=1,Type=String,Description=\\\"Ancestral Allele, ftp://ftp.1000genomes.ebi.ac.uk/vol1/ftp/pilot_data/technical/reference/ancestral_alignments/README\\\">\", \"type\": \"STRING\", \"name\": \"AA\", \"mode\": \"NULLABLE\"}, {\"description\": \"INFO=<ID=AC,Number=.,Type=Integer,Description=\\\"Alternate Allele Count\\\">\", \"type\": \"INTEGER\", \"name\": \"AC\", \"mode\": \"REPEATED\"}, {\"description\": \"INFO=<ID=AC1,Number=1,Type=Float,Description=\\\"Max-likelihood estimate of the first ALT allele count (no HWE assumption)\\\">\", \"type\": \"INTEGER\", \"name\": \"AC1\", \"mode\": \"NULLABLE\"}, {\"description\": \"INFO=<ID=AF,Number=1,Type=Float,Description=\\\"Global Allele Frequency based on AC/AN\\\">\", \"type\": \"FLOAT\", \"name\": \"AF\", \"mode\": \"NULLABLE\"}, {\"description\": \"INFO=<ID=AF1,Number=1,Type=Float,Description=\\\"Max-likelihood estimate of the first ALT allele frequency (assuming HWE)\\\">\", \"type\": \"FLOAT\", \"name\": \"AF1\", \"mode\": \"NULLABLE\"}, {\"description\": \"INFO=<ID=AFR_AF,Number=1,Type=Float,Description=\\\"Allele Frequency for samples from AFR based on AC/AN\\\">\", \"type\": \"FLOAT\", \"name\": \"AFR_AF\", \"mode\": \"NULLABLE\"}, {\"description\": \"INFO=<ID=AMR_AF,Number=1,Type=Float,Description=\\\"Allele Frequency for samples from AMR based on AC/AN\\\">\", \"type\": \"FLOAT\", \"name\": \"AMR_AF\", \"mode\": \"NULLABLE\"}, {\"description\": \"INFO=<ID=AN,Number=1,Type=Integer,Description=\\\"Total Allele Count\\\">\", \"type\": \"INTEGER\", \"name\": \"AN\", \"mode\": \"NULLABLE\"}, {\"description\": \"INFO=<ID=ASN_AF,Number=1,Type=Float,Description=\\\"Allele Frequency for samples from ASN based on AC/AN\\\">\", \"type\": \"FLOAT\", \"name\": \"ASN_AF\", \"mode\": \"NULLABLE\"}, {\"description\": \"INFO=<ID=AVGPOST,Number=1,Type=Float,Description=\\\"Average posterior probability from MaCH/Thunder\\\">\", \"type\": \"FLOAT\", \"name\": \"AVGPOST\", \"mode\": \"NULLABLE\"}, {\"description\": \"INFO=<ID=CIEND,Number=2,Type=Integer,Description=\\\"Confidence interval around END for imprecise variants\\\">\", \"type\": \"INTEGER\", \"name\": \"CIEND\", \"mode\": \"REPEATED\"}, {\"description\": \"INFO=<ID=CIPOS,Number=2,Type=Integer,Description=\\\"Confidence interval around POS for imprecise variants\\\">\", \"type\": \"INTEGER\", \"name\": \"CIPOS\", \"mode\": \"REPEATED\"}, {\"description\": \"INFO=<ID=DP,Number=1,Type=Integer,Description=\\\"Raw read depth\\\">\", \"type\": \"INTEGER\", \"name\": \"DP\", \"mode\": \"NULLABLE\"}, {\"description\": \"INFO=<ID=DP4,Number=4,Type=Integer,Description=\\\"# high-quality ref-forward bases, ref-reverse, alt-forward and alt-reverse bases\\\">\", \"type\": \"INTEGER\", \"name\": \"DP4\", \"mode\": \"REPEATED\"}, {\"description\": \"INFO=<ID=ERATE,Number=1,Type=Float,Description=\\\"Per-marker Mutation rate from MaCH/Thunder\\\">\", \"type\": \"FLOAT\", \"name\": \"ERATE\", \"mode\": \"NULLABLE\"}, {\"description\": \"INFO=<ID=EUR_AF,Number=1,Type=Float,Description=\\\"Allele Frequency for samples from EUR based on AC/AN\\\">\", \"type\": \"FLOAT\", \"name\": \"EUR_AF\", \"mode\": \"NULLABLE\"}, {\"description\": \"INFO=<ID=FQ,Number=1,Type=Float,Description=\\\"Phred probability of all samples being the same\\\">\", \"type\": \"FLOAT\", \"name\": \"FQ\", \"mode\": \"NULLABLE\"}, {\"description\": \"INFO=<ID=G3,Number=3,Type=Float,Description=\\\"ML estimate of genotype frequencies\\\">\", \"type\": \"FLOAT\", \"name\": \"G3\", \"mode\": \"REPEATED\"}, {\"description\": \"INFO=<ID=HOMLEN,Number=.,Type=Integer,Description=\\\"Length of base pair identical micro-homology at event breakpoints\\\">\", \"type\": \"INTEGER\", \"name\": \"HOMLEN\", \"mode\": \"NULLABLE\"}, {\"description\": \"INFO=<ID=HOMSEQ,Number=.,Type=String,Description=\\\"Sequence of base pair identical micro-homology at event breakpoints\\\">\", \"type\": \"STRING\", \"name\": \"HOMSEQ\", \"mode\": \"NULLABLE\"}, {\"description\": \"INFO=<ID=HWE,Number=1,Type=Float,Description=\\\"Chi^2 based HWE test P-value based on G3\\\">\", \"type\": \"FLOAT\", \"name\": \"HWE\", \"mode\": \"NULLABLE\"}, {\"description\": \"INFO=<ID=LDAF,Number=1,Type=Float,Description=\\\"MLE Allele Frequency Accounting for LD\\\">\", \"type\": \"FLOAT\", \"name\": \"LDAF\", \"mode\": \"NULLABLE\"}, {\"description\": \"INFO=<ID=MQ,Number=1,Type=Integer,Description=\\\"Root-mean-square mapping quality of covering reads\\\">\", \"type\": \"INTEGER\", \"name\": \"MQ\", \"mode\": \"NULLABLE\"}, {\"description\": \"INFO=<ID=PV4,Number=4,Type=Float,Description=\\\"P-values for strand bias, baseQ bias, mapQ bias and tail distance bias\\\">\", \"type\": \"FLOAT\", \"name\": \"PV4\", \"mode\": \"REPEATED\"}, {\"description\": \"INFO=<ID=RSQ,Number=1,Type=Float,Description=\\\"Genotype imputation quality from MaCH/Thunder\\\">\", \"type\": \"FLOAT\", \"name\": \"RSQ\", \"mode\": \"NULLABLE\"}, {\"description\": \"INFO=<ID=SNPSOURCE,Number=.,Type=String,Description=\\\"indicates if a snp was called when analysing the low coverage or exome alignment data\\\">\", \"type\": \"STRING\", \"name\": \"SNPSOURCE\", \"mode\": \"REPEATED\"}, {\"description\": \"\", \"type\": \"STRING\", \"name\": \"SOURCE\", \"mode\": \"REPEATED\"}, {\"description\": \"INFO=<ID=SVLEN,Number=1,Type=Integer,Description=\\\"Difference in length between REF and ALT alleles\\\">\", \"type\": \"INTEGER\", \"name\": \"SVLEN\", \"mode\": \"NULLABLE\"}, {\"description\": \"INFO=<ID=SVTYPE,Number=1,Type=String,Description=\\\"Type of structural variant\\\">\", \"type\": \"STRING\", \"name\": \"SVTYPE\", \"mode\": \"NULLABLE\"}, {\"description\": \"INFO=<ID=THETA,Number=1,Type=Float,Description=\\\"Per-marker Transition rate from MaCH/Thunder\\\">\", \"type\": \"FLOAT\", \"name\": \"THETA\", \"mode\": \"NULLABLE\"}, {\"description\": \"INFO=<ID=VT,Number=1,Type=String,Description=\\\"indicates what type of variant the line represents\\\">\", \"type\": \"STRING\", \"name\": \"VT\", \"mode\": \"NULLABLE\"}]);\n",
       "        }\n",
       "      );\n",
       "    </script>\n",
       "    "
      ],
      "text/plain": [
       "[{ 'name': 'reference_name', 'type': 'STRING', 'mode':'NULLABLE', 'description': 'An identifier from the reference genome or an angle-bracketed ID String pointing to a contig in the assembly file.' },\n",
       " { 'name': 'start', 'type': 'INTEGER', 'mode':'NULLABLE', 'description': 'The reference position, with the first base having position 0.' },\n",
       " { 'name': 'end', 'type': 'INTEGER', 'mode':'NULLABLE', 'description': 'INFO=<ID=END,Number=1,Type=Integer,Description=\"End position of the variant described in this record\">' },\n",
       " { 'name': 'reference_bases', 'type': 'STRING', 'mode':'NULLABLE', 'description': 'Each base must be one of A,C,G,T,N (case insensitive). Multiple bases are permitted. The value in the POS field refers to the position of the first base in the String.' },\n",
       " { 'name': 'alternate_bases', 'type': 'STRING', 'mode':'REPEATED', 'description': 'List of alternate non-reference alleles called on at least one of the samples. (\"at least one\" not true for this dataset)' },\n",
       " { 'name': 'quality', 'type': 'FLOAT', 'mode':'NULLABLE', 'description': 'phred-scaled quality score for the assertion made in ALT.' },\n",
       " { 'name': 'filter', 'type': 'STRING', 'mode':'REPEATED', 'description': 'PASS if this position has passed all filters, i.e. a call is made at this position. Otherwise, if the site has not passed all filters, a list of codes for filters that fail.' },\n",
       " { 'name': 'names', 'type': 'STRING', 'mode':'REPEATED', 'description': 'List of unique identifiers for the variant where available.' },\n",
       " { 'name': 'call', 'type': 'RECORD', 'mode':'REPEATED', 'description': 'Per-sample measurements.' },\n",
       " { 'name': 'call.call_set_id', 'type': 'STRING', 'mode':'NULLABLE', 'description': 'The id of the callset from which this data was exported from the Google Genomics Variants API.' },\n",
       " { 'name': 'call.call_set_name', 'type': 'STRING', 'mode':'NULLABLE', 'description': 'Sample identifier.' },\n",
       " { 'name': 'call.genotype', 'type': 'INTEGER', 'mode':'REPEATED', 'description': 'List of genotypes.' },\n",
       " { 'name': 'call.phaseset', 'type': 'STRING', 'mode':'NULLABLE', 'description': 'If this value is null, the data is unphased.  Otherwise it is phased.' },\n",
       " { 'name': 'call.genotype_likelihood', 'type': 'FLOAT', 'mode':'REPEATED', 'description': 'List of genotype likelihoods.' },\n",
       " { 'name': 'call.DP', 'type': 'INTEGER', 'mode':'NULLABLE', 'description': 'FORMAT=<ID=DP,Number=1,Type=Integer,Description=\"# high-quality bases\">' },\n",
       " { 'name': 'call.DS', 'type': 'FLOAT', 'mode':'NULLABLE', 'description': 'FORMAT=<ID=DS,Number=1,Type=Float,Description=\"Genotype dosage from MaCH/Thunder\">' },\n",
       " { 'name': 'call.FT', 'type': 'STRING', 'mode':'NULLABLE', 'description': 'None' },\n",
       " { 'name': 'call.GQ', 'type': 'STRING', 'mode':'NULLABLE', 'description': 'FORMAT=<ID=GQ,Number=1,Type=Float,Description=\"Genotype quality\">' },\n",
       " { 'name': 'call.PL', 'type': 'INTEGER', 'mode':'REPEATED', 'description': 'FORMAT=<ID=PL,Number=.,Type=Integer,Description=\"List of Phred-scaled genotype likelihoods, number of values is (#ALT+1)*(#ALT+2)/2\">' },\n",
       " { 'name': 'call.SP', 'type': 'INTEGER', 'mode':'NULLABLE', 'description': 'FORMAT=<ID=SP,Number=1,Type=Integer,Description=\"Phred-scaled strand bias P-value\">' },\n",
       " { 'name': 'AA', 'type': 'STRING', 'mode':'NULLABLE', 'description': 'INFO=<ID=AA,Number=1,Type=String,Description=\"Ancestral Allele, ftp://ftp.1000genomes.ebi.ac.uk/vol1/ftp/pilot_data/technical/reference/ancestral_alignments/README\">' },\n",
       " { 'name': 'AC', 'type': 'INTEGER', 'mode':'REPEATED', 'description': 'INFO=<ID=AC,Number=.,Type=Integer,Description=\"Alternate Allele Count\">' },\n",
       " { 'name': 'AC1', 'type': 'INTEGER', 'mode':'NULLABLE', 'description': 'INFO=<ID=AC1,Number=1,Type=Float,Description=\"Max-likelihood estimate of the first ALT allele count (no HWE assumption)\">' },\n",
       " { 'name': 'AF', 'type': 'FLOAT', 'mode':'NULLABLE', 'description': 'INFO=<ID=AF,Number=1,Type=Float,Description=\"Global Allele Frequency based on AC/AN\">' },\n",
       " { 'name': 'AF1', 'type': 'FLOAT', 'mode':'NULLABLE', 'description': 'INFO=<ID=AF1,Number=1,Type=Float,Description=\"Max-likelihood estimate of the first ALT allele frequency (assuming HWE)\">' },\n",
       " { 'name': 'AFR_AF', 'type': 'FLOAT', 'mode':'NULLABLE', 'description': 'INFO=<ID=AFR_AF,Number=1,Type=Float,Description=\"Allele Frequency for samples from AFR based on AC/AN\">' },\n",
       " { 'name': 'AMR_AF', 'type': 'FLOAT', 'mode':'NULLABLE', 'description': 'INFO=<ID=AMR_AF,Number=1,Type=Float,Description=\"Allele Frequency for samples from AMR based on AC/AN\">' },\n",
       " { 'name': 'AN', 'type': 'INTEGER', 'mode':'NULLABLE', 'description': 'INFO=<ID=AN,Number=1,Type=Integer,Description=\"Total Allele Count\">' },\n",
       " { 'name': 'ASN_AF', 'type': 'FLOAT', 'mode':'NULLABLE', 'description': 'INFO=<ID=ASN_AF,Number=1,Type=Float,Description=\"Allele Frequency for samples from ASN based on AC/AN\">' },\n",
       " { 'name': 'AVGPOST', 'type': 'FLOAT', 'mode':'NULLABLE', 'description': 'INFO=<ID=AVGPOST,Number=1,Type=Float,Description=\"Average posterior probability from MaCH/Thunder\">' },\n",
       " { 'name': 'CIEND', 'type': 'INTEGER', 'mode':'REPEATED', 'description': 'INFO=<ID=CIEND,Number=2,Type=Integer,Description=\"Confidence interval around END for imprecise variants\">' },\n",
       " { 'name': 'CIPOS', 'type': 'INTEGER', 'mode':'REPEATED', 'description': 'INFO=<ID=CIPOS,Number=2,Type=Integer,Description=\"Confidence interval around POS for imprecise variants\">' },\n",
       " { 'name': 'DP', 'type': 'INTEGER', 'mode':'NULLABLE', 'description': 'INFO=<ID=DP,Number=1,Type=Integer,Description=\"Raw read depth\">' },\n",
       " { 'name': 'DP4', 'type': 'INTEGER', 'mode':'REPEATED', 'description': 'INFO=<ID=DP4,Number=4,Type=Integer,Description=\"# high-quality ref-forward bases, ref-reverse, alt-forward and alt-reverse bases\">' },\n",
       " { 'name': 'ERATE', 'type': 'FLOAT', 'mode':'NULLABLE', 'description': 'INFO=<ID=ERATE,Number=1,Type=Float,Description=\"Per-marker Mutation rate from MaCH/Thunder\">' },\n",
       " { 'name': 'EUR_AF', 'type': 'FLOAT', 'mode':'NULLABLE', 'description': 'INFO=<ID=EUR_AF,Number=1,Type=Float,Description=\"Allele Frequency for samples from EUR based on AC/AN\">' },\n",
       " { 'name': 'FQ', 'type': 'FLOAT', 'mode':'NULLABLE', 'description': 'INFO=<ID=FQ,Number=1,Type=Float,Description=\"Phred probability of all samples being the same\">' },\n",
       " { 'name': 'G3', 'type': 'FLOAT', 'mode':'REPEATED', 'description': 'INFO=<ID=G3,Number=3,Type=Float,Description=\"ML estimate of genotype frequencies\">' },\n",
       " { 'name': 'HOMLEN', 'type': 'INTEGER', 'mode':'NULLABLE', 'description': 'INFO=<ID=HOMLEN,Number=.,Type=Integer,Description=\"Length of base pair identical micro-homology at event breakpoints\">' },\n",
       " { 'name': 'HOMSEQ', 'type': 'STRING', 'mode':'NULLABLE', 'description': 'INFO=<ID=HOMSEQ,Number=.,Type=String,Description=\"Sequence of base pair identical micro-homology at event breakpoints\">' },\n",
       " { 'name': 'HWE', 'type': 'FLOAT', 'mode':'NULLABLE', 'description': 'INFO=<ID=HWE,Number=1,Type=Float,Description=\"Chi^2 based HWE test P-value based on G3\">' },\n",
       " { 'name': 'LDAF', 'type': 'FLOAT', 'mode':'NULLABLE', 'description': 'INFO=<ID=LDAF,Number=1,Type=Float,Description=\"MLE Allele Frequency Accounting for LD\">' },\n",
       " { 'name': 'MQ', 'type': 'INTEGER', 'mode':'NULLABLE', 'description': 'INFO=<ID=MQ,Number=1,Type=Integer,Description=\"Root-mean-square mapping quality of covering reads\">' },\n",
       " { 'name': 'PV4', 'type': 'FLOAT', 'mode':'REPEATED', 'description': 'INFO=<ID=PV4,Number=4,Type=Float,Description=\"P-values for strand bias, baseQ bias, mapQ bias and tail distance bias\">' },\n",
       " { 'name': 'RSQ', 'type': 'FLOAT', 'mode':'NULLABLE', 'description': 'INFO=<ID=RSQ,Number=1,Type=Float,Description=\"Genotype imputation quality from MaCH/Thunder\">' },\n",
       " { 'name': 'SNPSOURCE', 'type': 'STRING', 'mode':'REPEATED', 'description': 'INFO=<ID=SNPSOURCE,Number=.,Type=String,Description=\"indicates if a snp was called when analysing the low coverage or exome alignment data\">' },\n",
       " { 'name': 'SOURCE', 'type': 'STRING', 'mode':'REPEATED', 'description': '' },\n",
       " { 'name': 'SVLEN', 'type': 'INTEGER', 'mode':'NULLABLE', 'description': 'INFO=<ID=SVLEN,Number=1,Type=Integer,Description=\"Difference in length between REF and ALT alleles\">' },\n",
       " { 'name': 'SVTYPE', 'type': 'STRING', 'mode':'NULLABLE', 'description': 'INFO=<ID=SVTYPE,Number=1,Type=String,Description=\"Type of structural variant\">' },\n",
       " { 'name': 'THETA', 'type': 'FLOAT', 'mode':'NULLABLE', 'description': 'INFO=<ID=THETA,Number=1,Type=Float,Description=\"Per-marker Transition rate from MaCH/Thunder\">' },\n",
       " { 'name': 'VT', 'type': 'STRING', 'mode':'NULLABLE', 'description': 'INFO=<ID=VT,Number=1,Type=String,Description=\"indicates what type of variant the line represents\">' }]"
      ]
     },
     "execution_count": 5,
     "metadata": {},
     "output_type": "execute_result"
    }
   ],
   "source": [
    "import datalab.bigquery as bq\n",
    "variants_table = bq.Table('genomics-public-data:1000_genomes.variants')\n",
    "variants_table.schema"
   ]
  },
  {
   "cell_type": "code",
   "execution_count": 8,
   "metadata": {
    "collapsed": false
   },
   "outputs": [
    {
     "data": {
      "text/html": [
       "\n",
       "          <script src=\"/static/components/requirejs/require.js\"></script>\n",
       "          <script>\n",
       "            requirejs.config({\n",
       "              paths: {\n",
       "                base: '/static/base',\n",
       "              },\n",
       "            });\n",
       "          </script>\n",
       "          "
      ],
      "text/plain": [
       "<IPython.core.display.HTML object>"
      ]
     },
     "metadata": {},
     "output_type": "display_data"
    }
   ],
   "source": [
    "%%sql --module allele_counts\n",
    "\n",
    "SELECT \n",
    "    reference_name,\n",
    "    start,\n",
    "    reference_bases,\n",
    "    alternate_bases,\n",
    "    end,\n",
    "    vt,    \n",
    "    call.call_set_name AS call_set_name,\n",
    "    # 1000 genomes phase 1 data is bi-allelic so there is only ever a single alt\n",
    "    SUM(0 = call.genotype) WITHIN RECORD AS ref_count,\n",
    "    SUM(1 = call.genotype) WITHIN RECORD AS alt_count,\n",
    "FROM\n",
    "  FLATTEN((\n",
    "    SELECT\n",
    "      reference_name,\n",
    "      start,\n",
    "      reference_bases,\n",
    "      alternate_bases,\n",
    "      end,\n",
    "      vt,\n",
    "      call.call_set_name,\n",
    "      call.genotype,\n",
    "    FROM\n",
    "      $variants_table\n",
    "    WHERE\n",
    "      reference_name = '12' -- i.e., chromosome 12\n",
    "    ),\n",
    "    call)"
   ]
  },
  {
   "cell_type": "code",
   "execution_count": 9,
   "metadata": {
    "collapsed": false
   },
   "outputs": [
    {
     "data": {
      "text/html": [
       "\n",
       "          <script src=\"/static/components/requirejs/require.js\"></script>\n",
       "          <script>\n",
       "            requirejs.config({\n",
       "              paths: {\n",
       "                base: '/static/base',\n",
       "              },\n",
       "            });\n",
       "          </script>\n",
       "          "
      ],
      "text/plain": [
       "<IPython.core.display.HTML object>"
      ]
     },
     "metadata": {},
     "output_type": "display_data"
    },
    {
     "data": {
      "text/html": [
       "<div>\n",
       "<table border=\"1\" class=\"dataframe\">\n",
       "  <thead>\n",
       "    <tr style=\"text-align: right;\">\n",
       "      <th></th>\n",
       "      <th>reference_name</th>\n",
       "      <th>start</th>\n",
       "      <th>reference_bases</th>\n",
       "      <th>alternate_bases</th>\n",
       "      <th>end</th>\n",
       "      <th>vt</th>\n",
       "      <th>call_set_name</th>\n",
       "      <th>ref_count</th>\n",
       "      <th>alt_count</th>\n",
       "    </tr>\n",
       "  </thead>\n",
       "  <tbody>\n",
       "    <tr>\n",
       "      <th>0</th>\n",
       "      <td>12</td>\n",
       "      <td>54319726</td>\n",
       "      <td>A</td>\n",
       "      <td>G</td>\n",
       "      <td>54319727</td>\n",
       "      <td>SNP</td>\n",
       "      <td>HG00261</td>\n",
       "      <td>0</td>\n",
       "      <td>2</td>\n",
       "    </tr>\n",
       "    <tr>\n",
       "      <th>1</th>\n",
       "      <td>12</td>\n",
       "      <td>54319726</td>\n",
       "      <td>A</td>\n",
       "      <td>G</td>\n",
       "      <td>54319727</td>\n",
       "      <td>SNP</td>\n",
       "      <td>HG00593</td>\n",
       "      <td>0</td>\n",
       "      <td>2</td>\n",
       "    </tr>\n",
       "    <tr>\n",
       "      <th>2</th>\n",
       "      <td>12</td>\n",
       "      <td>54319726</td>\n",
       "      <td>A</td>\n",
       "      <td>G</td>\n",
       "      <td>54319727</td>\n",
       "      <td>SNP</td>\n",
       "      <td>NA12749</td>\n",
       "      <td>1</td>\n",
       "      <td>1</td>\n",
       "    </tr>\n",
       "    <tr>\n",
       "      <th>3</th>\n",
       "      <td>12</td>\n",
       "      <td>54319726</td>\n",
       "      <td>A</td>\n",
       "      <td>G</td>\n",
       "      <td>54319727</td>\n",
       "      <td>SNP</td>\n",
       "      <td>HG00150</td>\n",
       "      <td>0</td>\n",
       "      <td>2</td>\n",
       "    </tr>\n",
       "    <tr>\n",
       "      <th>4</th>\n",
       "      <td>12</td>\n",
       "      <td>54319726</td>\n",
       "      <td>A</td>\n",
       "      <td>G</td>\n",
       "      <td>54319727</td>\n",
       "      <td>SNP</td>\n",
       "      <td>NA19675</td>\n",
       "      <td>0</td>\n",
       "      <td>2</td>\n",
       "    </tr>\n",
       "  </tbody>\n",
       "</table>\n",
       "</div>"
      ],
      "text/plain": [
       "  reference_name     start reference_bases alternate_bases       end   vt  \\\n",
       "0             12  54319726               A               G  54319727  SNP   \n",
       "1             12  54319726               A               G  54319727  SNP   \n",
       "2             12  54319726               A               G  54319727  SNP   \n",
       "3             12  54319726               A               G  54319727  SNP   \n",
       "4             12  54319726               A               G  54319727  SNP   \n",
       "\n",
       "  call_set_name  ref_count  alt_count  \n",
       "0       HG00261          0          2  \n",
       "1       HG00593          0          2  \n",
       "2       NA12749          1          1  \n",
       "3       HG00150          0          2  \n",
       "4       NA19675          0          2  "
      ]
     },
     "execution_count": 9,
     "metadata": {},
     "output_type": "execute_result"
    }
   ],
   "source": [
    "bq.Query(allele_counts, variants_table=variants_table).sample().to_dataframe()"
   ]
  },
  {
   "cell_type": "markdown",
   "metadata": {},
   "source": [
    "### Classifying per-call variant positions into variant/non-variant groups\n",
    "\n",
    "We can SUM the reference/alternate allele accounts for individual variant positions within chromosome 12.\n",
    "\n",
    "The field call.genotype is an integer ranging from [-1, num_alternate_bases].\n",
    "\n",
    "A value of negative one indicates that the genotype for the call is ambiguous (i.e., a no-call). A value of zero indicates that the genotype for the call is the same as the reference (i.e., non-variant). A value of one would indicate that the genotype for the call is the 1st value in the list of alternate bases (likewise for values >1)."
   ]
  },
  {
   "cell_type": "code",
   "execution_count": 10,
   "metadata": {
    "collapsed": false
   },
   "outputs": [
    {
     "data": {
      "text/html": [
       "\n",
       "          <script src=\"/static/components/requirejs/require.js\"></script>\n",
       "          <script>\n",
       "            requirejs.config({\n",
       "              paths: {\n",
       "                base: '/static/base',\n",
       "              },\n",
       "            });\n",
       "          </script>\n",
       "          "
      ],
      "text/plain": [
       "<IPython.core.display.HTML object>"
      ]
     },
     "metadata": {},
     "output_type": "display_data"
    }
   ],
   "source": [
    "sample_info_table = bq.Table('genomics-public-data:1000_genomes.sample_info')"
   ]
  },
  {
   "cell_type": "code",
   "execution_count": 11,
   "metadata": {
    "collapsed": false
   },
   "outputs": [
    {
     "data": {
      "text/html": [
       "\n",
       "          <script src=\"/static/components/requirejs/require.js\"></script>\n",
       "          <script>\n",
       "            requirejs.config({\n",
       "              paths: {\n",
       "                base: '/static/base',\n",
       "              },\n",
       "            });\n",
       "          </script>\n",
       "          "
      ],
      "text/plain": [
       "<IPython.core.display.HTML object>"
      ]
     },
     "metadata": {},
     "output_type": "display_data"
    },
    {
     "data": {
      "text/html": [
       "<div>\n",
       "<table border=\"1\" class=\"dataframe\">\n",
       "  <thead>\n",
       "    <tr style=\"text-align: right;\">\n",
       "      <th></th>\n",
       "      <th>reference_name</th>\n",
       "      <th>start</th>\n",
       "      <th>reference_bases</th>\n",
       "      <th>alternate_bases</th>\n",
       "      <th>end</th>\n",
       "      <th>vt</th>\n",
       "      <th>call_set_name</th>\n",
       "      <th>ref_count</th>\n",
       "      <th>alt_count</th>\n",
       "    </tr>\n",
       "  </thead>\n",
       "  <tbody>\n",
       "    <tr>\n",
       "      <th>0</th>\n",
       "      <td>12</td>\n",
       "      <td>54319726</td>\n",
       "      <td>A</td>\n",
       "      <td>G</td>\n",
       "      <td>54319727</td>\n",
       "      <td>SNP</td>\n",
       "      <td>HG00261</td>\n",
       "      <td>0</td>\n",
       "      <td>2</td>\n",
       "    </tr>\n",
       "    <tr>\n",
       "      <th>1</th>\n",
       "      <td>12</td>\n",
       "      <td>54319726</td>\n",
       "      <td>A</td>\n",
       "      <td>G</td>\n",
       "      <td>54319727</td>\n",
       "      <td>SNP</td>\n",
       "      <td>HG00593</td>\n",
       "      <td>0</td>\n",
       "      <td>2</td>\n",
       "    </tr>\n",
       "    <tr>\n",
       "      <th>2</th>\n",
       "      <td>12</td>\n",
       "      <td>54319726</td>\n",
       "      <td>A</td>\n",
       "      <td>G</td>\n",
       "      <td>54319727</td>\n",
       "      <td>SNP</td>\n",
       "      <td>NA12749</td>\n",
       "      <td>1</td>\n",
       "      <td>1</td>\n",
       "    </tr>\n",
       "    <tr>\n",
       "      <th>3</th>\n",
       "      <td>12</td>\n",
       "      <td>54319726</td>\n",
       "      <td>A</td>\n",
       "      <td>G</td>\n",
       "      <td>54319727</td>\n",
       "      <td>SNP</td>\n",
       "      <td>HG00150</td>\n",
       "      <td>0</td>\n",
       "      <td>2</td>\n",
       "    </tr>\n",
       "    <tr>\n",
       "      <th>4</th>\n",
       "      <td>12</td>\n",
       "      <td>54319726</td>\n",
       "      <td>A</td>\n",
       "      <td>G</td>\n",
       "      <td>54319727</td>\n",
       "      <td>SNP</td>\n",
       "      <td>NA19675</td>\n",
       "      <td>0</td>\n",
       "      <td>2</td>\n",
       "    </tr>\n",
       "  </tbody>\n",
       "</table>\n",
       "</div>"
      ],
      "text/plain": [
       "  reference_name     start reference_bases alternate_bases       end   vt  \\\n",
       "0             12  54319726               A               G  54319727  SNP   \n",
       "1             12  54319726               A               G  54319727  SNP   \n",
       "2             12  54319726               A               G  54319727  SNP   \n",
       "3             12  54319726               A               G  54319727  SNP   \n",
       "4             12  54319726               A               G  54319727  SNP   \n",
       "\n",
       "  call_set_name  ref_count  alt_count  \n",
       "0       HG00261          0          2  \n",
       "1       HG00593          0          2  \n",
       "2       NA12749          1          1  \n",
       "3       HG00150          0          2  \n",
       "4       NA19675          0          2  "
      ]
     },
     "execution_count": 11,
     "metadata": {},
     "output_type": "execute_result"
    }
   ],
   "source": [
    "bq.Query(allele_counts, variants_table=variants_table).sample().to_dataframe()"
   ]
  },
  {
   "cell_type": "markdown",
   "metadata": {},
   "source": [
    "### Assigning case and control groups\n",
    "\n",
    "We can join our allele counts with metadata available in the sample info table.\n",
    "\n",
    "Use this sample metadata to split the set of genomes into case and control groups based upon the super population group."
   ]
  },
  {
   "cell_type": "code",
   "execution_count": 12,
   "metadata": {
    "collapsed": false
   },
   "outputs": [
    {
     "data": {
      "text/html": [
       "\n",
       "          <script src=\"/static/components/requirejs/require.js\"></script>\n",
       "          <script>\n",
       "            requirejs.config({\n",
       "              paths: {\n",
       "                base: '/static/base',\n",
       "              },\n",
       "            });\n",
       "          </script>\n",
       "          "
      ],
      "text/plain": [
       "<IPython.core.display.HTML object>"
      ]
     },
     "metadata": {},
     "output_type": "display_data"
    }
   ],
   "source": [
    "%%sql --module exp_groups\n",
    "\n",
    "SELECT\n",
    "  super_population,\n",
    "  ('EAS' = super_population) AS is_case,\n",
    "  call_set_name,\n",
    "  reference_name,\n",
    "  start,\n",
    "  reference_bases,\n",
    "  alternate_bases,\n",
    "  end,\n",
    "  vt,\n",
    "  ref_count,\n",
    "  alt_count,\n",
    "FROM $allele_counts AS allele_counts\n",
    "JOIN $sample_info_table AS samples\n",
    "  ON allele_counts.call_set_name = samples.sample"
   ]
  },
  {
   "cell_type": "code",
   "execution_count": 13,
   "metadata": {
    "collapsed": false
   },
   "outputs": [
    {
     "data": {
      "text/html": [
       "\n",
       "          <script src=\"/static/components/requirejs/require.js\"></script>\n",
       "          <script>\n",
       "            requirejs.config({\n",
       "              paths: {\n",
       "                base: '/static/base',\n",
       "              },\n",
       "            });\n",
       "          </script>\n",
       "          "
      ],
      "text/plain": [
       "<IPython.core.display.HTML object>"
      ]
     },
     "metadata": {},
     "output_type": "display_data"
    },
    {
     "data": {
      "text/html": [
       "<div>\n",
       "<table border=\"1\" class=\"dataframe\">\n",
       "  <thead>\n",
       "    <tr style=\"text-align: right;\">\n",
       "      <th></th>\n",
       "      <th>super_population</th>\n",
       "      <th>is_case</th>\n",
       "      <th>call_set_name</th>\n",
       "      <th>reference_name</th>\n",
       "      <th>start</th>\n",
       "      <th>reference_bases</th>\n",
       "      <th>alternate_bases</th>\n",
       "      <th>end</th>\n",
       "      <th>vt</th>\n",
       "      <th>ref_count</th>\n",
       "      <th>alt_count</th>\n",
       "    </tr>\n",
       "  </thead>\n",
       "  <tbody>\n",
       "    <tr>\n",
       "      <th>0</th>\n",
       "      <td>EUR</td>\n",
       "      <td>False</td>\n",
       "      <td>HG00261</td>\n",
       "      <td>12</td>\n",
       "      <td>96851333</td>\n",
       "      <td>CT</td>\n",
       "      <td>C</td>\n",
       "      <td>96851335</td>\n",
       "      <td>INDEL</td>\n",
       "      <td>2</td>\n",
       "      <td>0</td>\n",
       "    </tr>\n",
       "    <tr>\n",
       "      <th>1</th>\n",
       "      <td>EAS</td>\n",
       "      <td>True</td>\n",
       "      <td>HG00593</td>\n",
       "      <td>12</td>\n",
       "      <td>96851333</td>\n",
       "      <td>CT</td>\n",
       "      <td>C</td>\n",
       "      <td>96851335</td>\n",
       "      <td>INDEL</td>\n",
       "      <td>2</td>\n",
       "      <td>0</td>\n",
       "    </tr>\n",
       "    <tr>\n",
       "      <th>2</th>\n",
       "      <td>EUR</td>\n",
       "      <td>False</td>\n",
       "      <td>NA12749</td>\n",
       "      <td>12</td>\n",
       "      <td>96851333</td>\n",
       "      <td>CT</td>\n",
       "      <td>C</td>\n",
       "      <td>96851335</td>\n",
       "      <td>INDEL</td>\n",
       "      <td>2</td>\n",
       "      <td>0</td>\n",
       "    </tr>\n",
       "    <tr>\n",
       "      <th>3</th>\n",
       "      <td>EUR</td>\n",
       "      <td>False</td>\n",
       "      <td>HG00150</td>\n",
       "      <td>12</td>\n",
       "      <td>96851333</td>\n",
       "      <td>CT</td>\n",
       "      <td>C</td>\n",
       "      <td>96851335</td>\n",
       "      <td>INDEL</td>\n",
       "      <td>2</td>\n",
       "      <td>0</td>\n",
       "    </tr>\n",
       "    <tr>\n",
       "      <th>4</th>\n",
       "      <td>AMR</td>\n",
       "      <td>False</td>\n",
       "      <td>NA19675</td>\n",
       "      <td>12</td>\n",
       "      <td>96851333</td>\n",
       "      <td>CT</td>\n",
       "      <td>C</td>\n",
       "      <td>96851335</td>\n",
       "      <td>INDEL</td>\n",
       "      <td>2</td>\n",
       "      <td>0</td>\n",
       "    </tr>\n",
       "  </tbody>\n",
       "</table>\n",
       "</div>"
      ],
      "text/plain": [
       "  super_population is_case call_set_name reference_name     start  \\\n",
       "0              EUR   False       HG00261             12  96851333   \n",
       "1              EAS    True       HG00593             12  96851333   \n",
       "2              EUR   False       NA12749             12  96851333   \n",
       "3              EUR   False       HG00150             12  96851333   \n",
       "4              AMR   False       NA19675             12  96851333   \n",
       "\n",
       "  reference_bases alternate_bases       end     vt  ref_count  alt_count  \n",
       "0              CT               C  96851335  INDEL          2          0  \n",
       "1              CT               C  96851335  INDEL          2          0  \n",
       "2              CT               C  96851335  INDEL          2          0  \n",
       "3              CT               C  96851335  INDEL          2          0  \n",
       "4              CT               C  96851335  INDEL          2          0  "
      ]
     },
     "execution_count": 13,
     "metadata": {},
     "output_type": "execute_result"
    }
   ],
   "source": [
    "bq.Query(exp_groups, allele_counts=allele_counts,\n",
    "                     sample_info_table=sample_info_table,\n",
    "                     variants_table=variants_table).sample().to_dataframe()"
   ]
  },
  {
   "cell_type": "code",
   "execution_count": 14,
   "metadata": {
    "collapsed": false
   },
   "outputs": [
    {
     "data": {
      "text/html": [
       "\n",
       "          <script src=\"/static/components/requirejs/require.js\"></script>\n",
       "          <script>\n",
       "            requirejs.config({\n",
       "              paths: {\n",
       "                base: '/static/base',\n",
       "              },\n",
       "            });\n",
       "          </script>\n",
       "          "
      ],
      "text/plain": [
       "<IPython.core.display.HTML object>"
      ]
     },
     "metadata": {},
     "output_type": "display_data"
    },
    {
     "data": {
      "text/html": [
       "\n",
       "    <div class=\"bqtv\" id=\"3_151555171306\"><table><tr><th>vt</th><th>f0_</th></tr><tr><td>SNP</td><td>1921583664</td></tr><tr><td>SV</td><td>745836</td></tr><tr><td>INDEL</td><td>73853052</td></tr></table></div>\n",
       "    <br />(rows: 3, time: 34.3s,   390GB processed, job: job_b-ALNgzBgNvFmRlSvGXatGRUp9HI)<br />\n",
       "    <script>\n",
       "\n",
       "      require.config({\n",
       "        paths: {\n",
       "          d3: '//cdnjs.cloudflare.com/ajax/libs/d3/3.4.13/d3',\n",
       "          plotly: 'https://cdn.plot.ly/plotly-1.5.1.min.js?noext',\n",
       "          jquery: '//ajax.googleapis.com/ajax/libs/jquery/2.0.0/jquery.min'\n",
       "        },\n",
       "        map: {\n",
       "          '*': {\n",
       "            datalab: 'nbextensions/gcpdatalab'\n",
       "          }\n",
       "        },\n",
       "        shim: {\n",
       "          plotly: {\n",
       "            deps: ['d3', 'jquery'],\n",
       "            exports: 'plotly'\n",
       "          }\n",
       "        }\n",
       "      });\n",
       "\n",
       "      require(['datalab/charting', 'datalab/element!3_151555171306', 'base/js/events',\n",
       "          'datalab/style!/nbextensions/gcpdatalab/charting.css'],\n",
       "        function(charts, dom, events) {\n",
       "          charts.render('gcharts', dom, events, 'table', [], {\"rows\": [{\"c\": [{\"v\": \"SNP\"}, {\"v\": 1921583664}]}, {\"c\": [{\"v\": \"SV\"}, {\"v\": 745836}]}, {\"c\": [{\"v\": \"INDEL\"}, {\"v\": 73853052}]}], \"cols\": [{\"type\": \"string\", \"id\": \"vt\", \"label\": \"vt\"}, {\"type\": \"number\", \"id\": \"f0_\", \"label\": \"f0_\"}]},\n",
       "            {\n",
       "              pageSize: 25,\n",
       "              cssClassNames:  {\n",
       "                tableRow: 'gchart-table-row',\n",
       "                headerRow: 'gchart-table-headerrow',\n",
       "                oddTableRow: 'gchart-table-oddrow',\n",
       "                selectedTableRow: 'gchart-table-selectedrow',\n",
       "                hoverTableRow: 'gchart-table-hoverrow',\n",
       "                tableCell: 'gchart-table-cell',\n",
       "                headerCell: 'gchart-table-headercell',\n",
       "                rowNumberCell: 'gchart-table-rownumcell'\n",
       "              }\n",
       "            },\n",
       "            {source_index: 0, fields: 'vt,f0_', legacy: 'true'},\n",
       "            0,\n",
       "            3);\n",
       "        }\n",
       "      );\n",
       "    </script>\n",
       "  "
      ],
      "text/plain": [
       "QueryResultsTable job_b-ALNgzBgNvFmRlSvGXatGRUp9HI"
      ]
     },
     "execution_count": 14,
     "metadata": {},
     "output_type": "execute_result"
    }
   ],
   "source": [
    "%%sql\n",
    "SELECT \n",
    "  vt,\n",
    "  COUNT(*)\n",
    "FROM $exp_groups\n",
    "GROUP BY vt"
   ]
  },
  {
   "cell_type": "markdown",
   "metadata": {},
   "source": [
    "### close to TWO BILLIONS SNPs. For the purposes of this DEMO we'll  limit the variants to only SNPs."
   ]
  },
  {
   "cell_type": "code",
   "execution_count": 15,
   "metadata": {
    "collapsed": false
   },
   "outputs": [
    {
     "data": {
      "text/html": [
       "\n",
       "          <script src=\"/static/components/requirejs/require.js\"></script>\n",
       "          <script>\n",
       "            requirejs.config({\n",
       "              paths: {\n",
       "                base: '/static/base',\n",
       "              },\n",
       "            });\n",
       "          </script>\n",
       "          "
      ],
      "text/plain": [
       "<IPython.core.display.HTML object>"
      ]
     },
     "metadata": {},
     "output_type": "display_data"
    }
   ],
   "source": [
    "%%sql --module snps\n",
    "SELECT * \n",
    "FROM $exp_groups\n",
    "WHERE vt='SNP'"
   ]
  },
  {
   "cell_type": "code",
   "execution_count": 16,
   "metadata": {
    "collapsed": false
   },
   "outputs": [
    {
     "data": {
      "text/html": [
       "\n",
       "          <script src=\"/static/components/requirejs/require.js\"></script>\n",
       "          <script>\n",
       "            requirejs.config({\n",
       "              paths: {\n",
       "                base: '/static/base',\n",
       "              },\n",
       "            });\n",
       "          </script>\n",
       "          "
      ],
      "text/plain": [
       "<IPython.core.display.HTML object>"
      ]
     },
     "metadata": {},
     "output_type": "display_data"
    },
    {
     "data": {
      "text/html": [
       "<div>\n",
       "<table border=\"1\" class=\"dataframe\">\n",
       "  <thead>\n",
       "    <tr style=\"text-align: right;\">\n",
       "      <th></th>\n",
       "      <th>super_population</th>\n",
       "      <th>is_case</th>\n",
       "      <th>call_set_name</th>\n",
       "      <th>reference_name</th>\n",
       "      <th>start</th>\n",
       "      <th>reference_bases</th>\n",
       "      <th>alternate_bases</th>\n",
       "      <th>end</th>\n",
       "      <th>vt</th>\n",
       "      <th>ref_count</th>\n",
       "      <th>alt_count</th>\n",
       "    </tr>\n",
       "  </thead>\n",
       "  <tbody>\n",
       "    <tr>\n",
       "      <th>0</th>\n",
       "      <td>EUR</td>\n",
       "      <td>False</td>\n",
       "      <td>HG00261</td>\n",
       "      <td>12</td>\n",
       "      <td>42065938</td>\n",
       "      <td>G</td>\n",
       "      <td>T</td>\n",
       "      <td>42065939</td>\n",
       "      <td>SNP</td>\n",
       "      <td>2</td>\n",
       "      <td>0</td>\n",
       "    </tr>\n",
       "    <tr>\n",
       "      <th>1</th>\n",
       "      <td>EAS</td>\n",
       "      <td>True</td>\n",
       "      <td>HG00593</td>\n",
       "      <td>12</td>\n",
       "      <td>42065938</td>\n",
       "      <td>G</td>\n",
       "      <td>T</td>\n",
       "      <td>42065939</td>\n",
       "      <td>SNP</td>\n",
       "      <td>2</td>\n",
       "      <td>0</td>\n",
       "    </tr>\n",
       "    <tr>\n",
       "      <th>2</th>\n",
       "      <td>EUR</td>\n",
       "      <td>False</td>\n",
       "      <td>NA12749</td>\n",
       "      <td>12</td>\n",
       "      <td>42065938</td>\n",
       "      <td>G</td>\n",
       "      <td>T</td>\n",
       "      <td>42065939</td>\n",
       "      <td>SNP</td>\n",
       "      <td>2</td>\n",
       "      <td>0</td>\n",
       "    </tr>\n",
       "    <tr>\n",
       "      <th>3</th>\n",
       "      <td>EUR</td>\n",
       "      <td>False</td>\n",
       "      <td>HG00150</td>\n",
       "      <td>12</td>\n",
       "      <td>42065938</td>\n",
       "      <td>G</td>\n",
       "      <td>T</td>\n",
       "      <td>42065939</td>\n",
       "      <td>SNP</td>\n",
       "      <td>2</td>\n",
       "      <td>0</td>\n",
       "    </tr>\n",
       "    <tr>\n",
       "      <th>4</th>\n",
       "      <td>AMR</td>\n",
       "      <td>False</td>\n",
       "      <td>NA19675</td>\n",
       "      <td>12</td>\n",
       "      <td>42065938</td>\n",
       "      <td>G</td>\n",
       "      <td>T</td>\n",
       "      <td>42065939</td>\n",
       "      <td>SNP</td>\n",
       "      <td>2</td>\n",
       "      <td>0</td>\n",
       "    </tr>\n",
       "  </tbody>\n",
       "</table>\n",
       "</div>"
      ],
      "text/plain": [
       "  super_population is_case call_set_name reference_name     start  \\\n",
       "0              EUR   False       HG00261             12  42065938   \n",
       "1              EAS    True       HG00593             12  42065938   \n",
       "2              EUR   False       NA12749             12  42065938   \n",
       "3              EUR   False       HG00150             12  42065938   \n",
       "4              AMR   False       NA19675             12  42065938   \n",
       "\n",
       "  reference_bases alternate_bases       end   vt  ref_count  alt_count  \n",
       "0               G               T  42065939  SNP          2          0  \n",
       "1               G               T  42065939  SNP          2          0  \n",
       "2               G               T  42065939  SNP          2          0  \n",
       "3               G               T  42065939  SNP          2          0  \n",
       "4               G               T  42065939  SNP          2          0  "
      ]
     },
     "execution_count": 16,
     "metadata": {},
     "output_type": "execute_result"
    }
   ],
   "source": [
    "bq.Query(snps,\n",
    "         exp_groups=exp_groups,\n",
    "         allele_counts=allele_counts,\n",
    "         sample_info_table=sample_info_table,\n",
    "         variants_table=variants_table).sample().to_dataframe()"
   ]
  },
  {
   "cell_type": "markdown",
   "metadata": {},
   "source": [
    "### SUMMING reference/alternate allele counts for case/control groups "
   ]
  },
  {
   "cell_type": "markdown",
   "metadata": {},
   "source": [
    "### Now that we've assigned each call set to either the case or the control group, we can tally up the counts of reference and alternate alleles within each of our assigned case/control groups, for each variant position, like so: "
   ]
  },
  {
   "cell_type": "code",
   "execution_count": 17,
   "metadata": {
    "collapsed": false
   },
   "outputs": [
    {
     "data": {
      "text/html": [
       "\n",
       "          <script src=\"/static/components/requirejs/require.js\"></script>\n",
       "          <script>\n",
       "            requirejs.config({\n",
       "              paths: {\n",
       "                base: '/static/base',\n",
       "              },\n",
       "            });\n",
       "          </script>\n",
       "          "
      ],
      "text/plain": [
       "<IPython.core.display.HTML object>"
      ]
     },
     "metadata": {},
     "output_type": "display_data"
    }
   ],
   "source": [
    "%%sql --module grouped_counts\n",
    "\n",
    "SELECT\n",
    "    reference_name,\n",
    "    start,\n",
    "    end,\n",
    "    reference_bases,\n",
    "    alternate_bases,\n",
    "    vt,\n",
    "    SUM(ref_count + alt_count) AS allele_count,\n",
    "    SUM(ref_count) AS ref_count,\n",
    "    SUM(alt_count) AS alt_count,\n",
    "    SUM(IF(TRUE = is_case, INTEGER(ref_count + alt_count), 0)) AS case_count,\n",
    "    SUM(IF(FALSE = is_case, INTEGER(ref_count + alt_count), 0)) AS control_count,\n",
    "    SUM(IF(TRUE = is_case, ref_count, 0)) AS case_ref_count,\n",
    "    SUM(IF(TRUE = is_case, alt_count, 0)) AS case_alt_count,\n",
    "    SUM(IF(FALSE = is_case, ref_count, 0)) AS control_ref_count,\n",
    "    SUM(IF(FALSE = is_case, alt_count, 0)) AS control_alt_count,\n",
    "FROM $snps\n",
    "GROUP BY\n",
    "    reference_name,\n",
    "    start,\n",
    "    end,\n",
    "    reference_bases,\n",
    "    alternate_bases,\n",
    "    vt"
   ]
  },
  {
   "cell_type": "code",
   "execution_count": 18,
   "metadata": {
    "collapsed": false
   },
   "outputs": [
    {
     "data": {
      "text/html": [
       "\n",
       "          <script src=\"/static/components/requirejs/require.js\"></script>\n",
       "          <script>\n",
       "            requirejs.config({\n",
       "              paths: {\n",
       "                base: '/static/base',\n",
       "              },\n",
       "            });\n",
       "          </script>\n",
       "          "
      ],
      "text/plain": [
       "<IPython.core.display.HTML object>"
      ]
     },
     "metadata": {},
     "output_type": "display_data"
    },
    {
     "data": {
      "text/html": [
       "<div>\n",
       "<table border=\"1\" class=\"dataframe\">\n",
       "  <thead>\n",
       "    <tr style=\"text-align: right;\">\n",
       "      <th></th>\n",
       "      <th>reference_name</th>\n",
       "      <th>start</th>\n",
       "      <th>end</th>\n",
       "      <th>reference_bases</th>\n",
       "      <th>alternate_bases</th>\n",
       "      <th>vt</th>\n",
       "      <th>allele_count</th>\n",
       "      <th>ref_count</th>\n",
       "      <th>alt_count</th>\n",
       "      <th>case_count</th>\n",
       "      <th>control_count</th>\n",
       "      <th>case_ref_count</th>\n",
       "      <th>case_alt_count</th>\n",
       "      <th>control_ref_count</th>\n",
       "      <th>control_alt_count</th>\n",
       "    </tr>\n",
       "  </thead>\n",
       "  <tbody>\n",
       "    <tr>\n",
       "      <th>0</th>\n",
       "      <td>12</td>\n",
       "      <td>128192925</td>\n",
       "      <td>128192926</td>\n",
       "      <td>C</td>\n",
       "      <td>T</td>\n",
       "      <td>SNP</td>\n",
       "      <td>2184</td>\n",
       "      <td>2175</td>\n",
       "      <td>9</td>\n",
       "      <td>572</td>\n",
       "      <td>1612</td>\n",
       "      <td>572</td>\n",
       "      <td>0</td>\n",
       "      <td>1603</td>\n",
       "      <td>9</td>\n",
       "    </tr>\n",
       "    <tr>\n",
       "      <th>1</th>\n",
       "      <td>12</td>\n",
       "      <td>12239049</td>\n",
       "      <td>12239050</td>\n",
       "      <td>A</td>\n",
       "      <td>C</td>\n",
       "      <td>SNP</td>\n",
       "      <td>2184</td>\n",
       "      <td>1739</td>\n",
       "      <td>445</td>\n",
       "      <td>572</td>\n",
       "      <td>1612</td>\n",
       "      <td>503</td>\n",
       "      <td>69</td>\n",
       "      <td>1236</td>\n",
       "      <td>376</td>\n",
       "    </tr>\n",
       "    <tr>\n",
       "      <th>2</th>\n",
       "      <td>12</td>\n",
       "      <td>30035672</td>\n",
       "      <td>30035673</td>\n",
       "      <td>G</td>\n",
       "      <td>A</td>\n",
       "      <td>SNP</td>\n",
       "      <td>2184</td>\n",
       "      <td>2182</td>\n",
       "      <td>2</td>\n",
       "      <td>572</td>\n",
       "      <td>1612</td>\n",
       "      <td>572</td>\n",
       "      <td>0</td>\n",
       "      <td>1610</td>\n",
       "      <td>2</td>\n",
       "    </tr>\n",
       "    <tr>\n",
       "      <th>3</th>\n",
       "      <td>12</td>\n",
       "      <td>7397689</td>\n",
       "      <td>7397690</td>\n",
       "      <td>C</td>\n",
       "      <td>G</td>\n",
       "      <td>SNP</td>\n",
       "      <td>2184</td>\n",
       "      <td>151</td>\n",
       "      <td>2033</td>\n",
       "      <td>572</td>\n",
       "      <td>1612</td>\n",
       "      <td>0</td>\n",
       "      <td>572</td>\n",
       "      <td>151</td>\n",
       "      <td>1461</td>\n",
       "    </tr>\n",
       "    <tr>\n",
       "      <th>4</th>\n",
       "      <td>12</td>\n",
       "      <td>68320384</td>\n",
       "      <td>68320385</td>\n",
       "      <td>C</td>\n",
       "      <td>G</td>\n",
       "      <td>SNP</td>\n",
       "      <td>2184</td>\n",
       "      <td>2152</td>\n",
       "      <td>32</td>\n",
       "      <td>572</td>\n",
       "      <td>1612</td>\n",
       "      <td>572</td>\n",
       "      <td>0</td>\n",
       "      <td>1580</td>\n",
       "      <td>32</td>\n",
       "    </tr>\n",
       "  </tbody>\n",
       "</table>\n",
       "</div>"
      ],
      "text/plain": [
       "  reference_name      start        end reference_bases alternate_bases   vt  \\\n",
       "0             12  128192925  128192926               C               T  SNP   \n",
       "1             12   12239049   12239050               A               C  SNP   \n",
       "2             12   30035672   30035673               G               A  SNP   \n",
       "3             12    7397689    7397690               C               G  SNP   \n",
       "4             12   68320384   68320385               C               G  SNP   \n",
       "\n",
       "   allele_count  ref_count  alt_count  case_count  control_count  \\\n",
       "0          2184       2175          9         572           1612   \n",
       "1          2184       1739        445         572           1612   \n",
       "2          2184       2182          2         572           1612   \n",
       "3          2184        151       2033         572           1612   \n",
       "4          2184       2152         32         572           1612   \n",
       "\n",
       "   case_ref_count  case_alt_count  control_ref_count  control_alt_count  \n",
       "0             572               0               1603                  9  \n",
       "1             503              69               1236                376  \n",
       "2             572               0               1610                  2  \n",
       "3               0             572                151               1461  \n",
       "4             572               0               1580                 32  "
      ]
     },
     "execution_count": 18,
     "metadata": {},
     "output_type": "execute_result"
    }
   ],
   "source": [
    "bq.Query(grouped_counts,\n",
    "         snps=snps,\n",
    "         exp_groups=exp_groups,\n",
    "         allele_counts=allele_counts,\n",
    "         sample_info_table=sample_info_table,\n",
    "         variants_table=variants_table).sample().to_dataframe()"
   ]
  },
  {
   "cell_type": "markdown",
   "metadata": {},
   "source": [
    "### Quantify the statistical significance at each variant positions\n",
    "\n",
    "### We can quantify the statistical significance of each variant position using the Chi-squared test. Furthermore, we can restrict our result set to only statistically significant variant positions for this experiment by ranking each position by its statistical signficance (decreasing) and thresholding the results for significance at p <= 5e-8 (chi-squared score >= 29.7)."
   ]
  },
  {
   "cell_type": "code",
   "execution_count": 19,
   "metadata": {
    "collapsed": false
   },
   "outputs": [
    {
     "data": {
      "text/html": [
       "\n",
       "          <script src=\"/static/components/requirejs/require.js\"></script>\n",
       "          <script>\n",
       "            requirejs.config({\n",
       "              paths: {\n",
       "                base: '/static/base',\n",
       "              },\n",
       "            });\n",
       "          </script>\n",
       "          "
      ],
      "text/plain": [
       "<IPython.core.display.HTML object>"
      ]
     },
     "metadata": {},
     "output_type": "display_data"
    }
   ],
   "source": [
    "%%sql --module results\n",
    "\n",
    "SELECT\n",
    "  reference_name,\n",
    "  start,\n",
    "  end,\n",
    "  reference_bases,\n",
    "  alternate_bases,\n",
    "  vt,\n",
    "  case_count,\n",
    "  control_count,\n",
    "  allele_count,\n",
    "  ref_count,\n",
    "  alt_count,\n",
    "  case_ref_count,\n",
    "  case_alt_count,\n",
    "  control_ref_count,\n",
    "  control_alt_count,\n",
    "\n",
    "\n",
    "  ROUND(\n",
    "    POW(ABS(case_ref_count - (ref_count/allele_count)*case_count) - 0.5,\n",
    "      2)/((ref_count/allele_count)*case_count) +\n",
    "    POW(ABS(control_ref_count - (ref_count/allele_count)*control_count) - 0.5,\n",
    "      2)/((ref_count/allele_count)*control_count) +\n",
    "    POW(ABS(case_alt_count - (alt_count/allele_count)*case_count) - 0.5,\n",
    "      2)/((alt_count/allele_count)*case_count) +\n",
    "    POW(ABS(control_alt_count - (alt_count/allele_count)*control_count) - 0.5,\n",
    "      2)/((alt_count/allele_count)*control_count),\n",
    "    3) AS chi_squared_score\n",
    "FROM $grouped_counts\n",
    "WHERE\n",
    "  # For chi-squared, expected counts must be at least 5 for each group\n",
    "  (ref_count/allele_count)*case_count >= 5.0\n",
    "  AND (ref_count/allele_count)*control_count >= 5.0\n",
    "  AND (alt_count/allele_count)*case_count >= 5.0\n",
    "  AND (alt_count/allele_count)*control_count >= 5.0\n",
    "HAVING\n",
    "  # Chi-squared critical value for df=1, p-value=5*10^-8 is 29.71679\n",
    "  chi_squared_score >= 29.71679\n",
    "ORDER BY\n",
    "  chi_squared_score DESC,\n",
    "  allele_count DESC"
   ]
  },
  {
   "cell_type": "code",
   "execution_count": 20,
   "metadata": {
    "collapsed": false
   },
   "outputs": [
    {
     "data": {
      "text/html": [
       "\n",
       "          <script src=\"/static/components/requirejs/require.js\"></script>\n",
       "          <script>\n",
       "            requirejs.config({\n",
       "              paths: {\n",
       "                base: '/static/base',\n",
       "              },\n",
       "            });\n",
       "          </script>\n",
       "          "
      ],
      "text/plain": [
       "<IPython.core.display.HTML object>"
      ]
     },
     "metadata": {},
     "output_type": "display_data"
    },
    {
     "data": {
      "text/html": [
       "<div>\n",
       "<table border=\"1\" class=\"dataframe\">\n",
       "  <thead>\n",
       "    <tr style=\"text-align: right;\">\n",
       "      <th></th>\n",
       "      <th>reference_name</th>\n",
       "      <th>start</th>\n",
       "      <th>end</th>\n",
       "      <th>reference_bases</th>\n",
       "      <th>alternate_bases</th>\n",
       "      <th>vt</th>\n",
       "      <th>case_count</th>\n",
       "      <th>control_count</th>\n",
       "      <th>allele_count</th>\n",
       "      <th>ref_count</th>\n",
       "      <th>alt_count</th>\n",
       "      <th>case_ref_count</th>\n",
       "      <th>case_alt_count</th>\n",
       "      <th>control_ref_count</th>\n",
       "      <th>control_alt_count</th>\n",
       "      <th>chi_squared_score</th>\n",
       "    </tr>\n",
       "  </thead>\n",
       "  <tbody>\n",
       "    <tr>\n",
       "      <th>0</th>\n",
       "      <td>12</td>\n",
       "      <td>110571373</td>\n",
       "      <td>110571374</td>\n",
       "      <td>A</td>\n",
       "      <td>G</td>\n",
       "      <td>SNP</td>\n",
       "      <td>572</td>\n",
       "      <td>1612</td>\n",
       "      <td>2184</td>\n",
       "      <td>1813</td>\n",
       "      <td>371</td>\n",
       "      <td>220</td>\n",
       "      <td>352</td>\n",
       "      <td>1593</td>\n",
       "      <td>19</td>\n",
       "      <td>1086.505</td>\n",
       "    </tr>\n",
       "    <tr>\n",
       "      <th>1</th>\n",
       "      <td>12</td>\n",
       "      <td>22509094</td>\n",
       "      <td>22509095</td>\n",
       "      <td>T</td>\n",
       "      <td>C</td>\n",
       "      <td>SNP</td>\n",
       "      <td>572</td>\n",
       "      <td>1612</td>\n",
       "      <td>2184</td>\n",
       "      <td>1589</td>\n",
       "      <td>595</td>\n",
       "      <td>116</td>\n",
       "      <td>456</td>\n",
       "      <td>1473</td>\n",
       "      <td>139</td>\n",
       "      <td>1073.082</td>\n",
       "    </tr>\n",
       "    <tr>\n",
       "      <th>2</th>\n",
       "      <td>12</td>\n",
       "      <td>22525352</td>\n",
       "      <td>22525353</td>\n",
       "      <td>A</td>\n",
       "      <td>C</td>\n",
       "      <td>SNP</td>\n",
       "      <td>572</td>\n",
       "      <td>1612</td>\n",
       "      <td>2184</td>\n",
       "      <td>1585</td>\n",
       "      <td>599</td>\n",
       "      <td>115</td>\n",
       "      <td>457</td>\n",
       "      <td>1470</td>\n",
       "      <td>142</td>\n",
       "      <td>1068.266</td>\n",
       "    </tr>\n",
       "    <tr>\n",
       "      <th>3</th>\n",
       "      <td>12</td>\n",
       "      <td>22524240</td>\n",
       "      <td>22524241</td>\n",
       "      <td>T</td>\n",
       "      <td>C</td>\n",
       "      <td>SNP</td>\n",
       "      <td>572</td>\n",
       "      <td>1612</td>\n",
       "      <td>2184</td>\n",
       "      <td>1584</td>\n",
       "      <td>600</td>\n",
       "      <td>115</td>\n",
       "      <td>457</td>\n",
       "      <td>1469</td>\n",
       "      <td>143</td>\n",
       "      <td>1065.294</td>\n",
       "    </tr>\n",
       "    <tr>\n",
       "      <th>4</th>\n",
       "      <td>12</td>\n",
       "      <td>33240567</td>\n",
       "      <td>33240568</td>\n",
       "      <td>C</td>\n",
       "      <td>G</td>\n",
       "      <td>SNP</td>\n",
       "      <td>572</td>\n",
       "      <td>1612</td>\n",
       "      <td>2184</td>\n",
       "      <td>1678</td>\n",
       "      <td>506</td>\n",
       "      <td>159</td>\n",
       "      <td>413</td>\n",
       "      <td>1519</td>\n",
       "      <td>93</td>\n",
       "      <td>1043.029</td>\n",
       "    </tr>\n",
       "  </tbody>\n",
       "</table>\n",
       "</div>"
      ],
      "text/plain": [
       "  reference_name      start        end reference_bases alternate_bases   vt  \\\n",
       "0             12  110571373  110571374               A               G  SNP   \n",
       "1             12   22509094   22509095               T               C  SNP   \n",
       "2             12   22525352   22525353               A               C  SNP   \n",
       "3             12   22524240   22524241               T               C  SNP   \n",
       "4             12   33240567   33240568               C               G  SNP   \n",
       "\n",
       "   case_count  control_count  allele_count  ref_count  alt_count  \\\n",
       "0         572           1612          2184       1813        371   \n",
       "1         572           1612          2184       1589        595   \n",
       "2         572           1612          2184       1585        599   \n",
       "3         572           1612          2184       1584        600   \n",
       "4         572           1612          2184       1678        506   \n",
       "\n",
       "   case_ref_count  case_alt_count  control_ref_count  control_alt_count  \\\n",
       "0             220             352               1593                 19   \n",
       "1             116             456               1473                139   \n",
       "2             115             457               1470                142   \n",
       "3             115             457               1469                143   \n",
       "4             159             413               1519                 93   \n",
       "\n",
       "   chi_squared_score  \n",
       "0           1086.505  \n",
       "1           1073.082  \n",
       "2           1068.266  \n",
       "3           1065.294  \n",
       "4           1043.029  "
      ]
     },
     "execution_count": 20,
     "metadata": {},
     "output_type": "execute_result"
    }
   ],
   "source": [
    "bq.Query(results,\n",
    "         grouped_counts=grouped_counts,\n",
    "         snps=snps,\n",
    "         exp_groups=exp_groups,\n",
    "         allele_counts=allele_counts,\n",
    "         sample_info_table=sample_info_table,\n",
    "         variants_table=variants_table).sample().to_dataframe()"
   ]
  },
  {
   "cell_type": "markdown",
   "metadata": {},
   "source": [
    "### the positions deemed significant do in fact have significantly different case/control counts for the alternate/reference bases.\n",
    "\n",
    "### Computing Chi-squared statistics in BigQuery vs Python\n",
    "\n",
    "### Let's compare these BigQuery-computed Chi-squared scores to ones calculated via Python's statistical packages"
   ]
  },
  {
   "cell_type": "code",
   "execution_count": 21,
   "metadata": {
    "collapsed": false
   },
   "outputs": [
    {
     "data": {
      "text/html": [
       "\n",
       "          <script src=\"/static/components/requirejs/require.js\"></script>\n",
       "          <script>\n",
       "            requirejs.config({\n",
       "              paths: {\n",
       "                base: '/static/base',\n",
       "              },\n",
       "            });\n",
       "          </script>\n",
       "          "
      ],
      "text/plain": [
       "<IPython.core.display.HTML object>"
      ]
     },
     "metadata": {},
     "output_type": "display_data"
    },
    {
     "name": "stdout",
     "output_type": "stream",
     "text": [
      "Python Chi-sq score = 1086.505\n"
     ]
    }
   ],
   "source": [
    "import numpy as np\n",
    "from scipy.stats import chi2_contingency\n",
    "\n",
    "chi2, p, dof, expected = chi2_contingency(np.array([ \n",
    "    [220, 352], # case \n",
    "    [1593, 19]  # control\n",
    "]))\n",
    "\n",
    "print 'Python Chi-sq score = %.3f' % chi2"
   ]
  },
  {
   "cell_type": "markdown",
   "metadata": {},
   "source": [
    "### We can see that for the computation in Python the value matches 1086.505 from BigQuery. ( repeat this in R and see that result values match)\n",
    "\n",
    "### Analyzing the GWAS results\n",
    "\n",
    "### First, how many statistically significant variant positions did we find?"
   ]
  },
  {
   "cell_type": "code",
   "execution_count": 22,
   "metadata": {
    "collapsed": false
   },
   "outputs": [
    {
     "data": {
      "text/html": [
       "\n",
       "          <script src=\"/static/components/requirejs/require.js\"></script>\n",
       "          <script>\n",
       "            requirejs.config({\n",
       "              paths: {\n",
       "                base: '/static/base',\n",
       "              },\n",
       "            });\n",
       "          </script>\n",
       "          "
      ],
      "text/plain": [
       "<IPython.core.display.HTML object>"
      ]
     },
     "metadata": {},
     "output_type": "display_data"
    },
    {
     "data": {
      "text/html": [
       "\n",
       "    <div class=\"bqtv\" id=\"4_151555235887\"><table><tr><th>num_significant_snps</th></tr><tr><td>224332</td></tr></table></div>\n",
       "    <br />(rows: 1, time: 36.4s,     1TB processed, job: job_gkvQ2OrjBXoI4jc_7n9zhf83eUAS)<br />\n",
       "    <script>\n",
       "\n",
       "      require.config({\n",
       "        paths: {\n",
       "          d3: '//cdnjs.cloudflare.com/ajax/libs/d3/3.4.13/d3',\n",
       "          plotly: 'https://cdn.plot.ly/plotly-1.5.1.min.js?noext',\n",
       "          jquery: '//ajax.googleapis.com/ajax/libs/jquery/2.0.0/jquery.min'\n",
       "        },\n",
       "        map: {\n",
       "          '*': {\n",
       "            datalab: 'nbextensions/gcpdatalab'\n",
       "          }\n",
       "        },\n",
       "        shim: {\n",
       "          plotly: {\n",
       "            deps: ['d3', 'jquery'],\n",
       "            exports: 'plotly'\n",
       "          }\n",
       "        }\n",
       "      });\n",
       "\n",
       "      require(['datalab/charting', 'datalab/element!4_151555235887', 'base/js/events',\n",
       "          'datalab/style!/nbextensions/gcpdatalab/charting.css'],\n",
       "        function(charts, dom, events) {\n",
       "          charts.render('gcharts', dom, events, 'table', [], {\"rows\": [{\"c\": [{\"v\": 224332}]}], \"cols\": [{\"type\": \"number\", \"id\": \"num_significant_snps\", \"label\": \"num_significant_snps\"}]},\n",
       "            {\n",
       "              pageSize: 25,\n",
       "              cssClassNames:  {\n",
       "                tableRow: 'gchart-table-row',\n",
       "                headerRow: 'gchart-table-headerrow',\n",
       "                oddTableRow: 'gchart-table-oddrow',\n",
       "                selectedTableRow: 'gchart-table-selectedrow',\n",
       "                hoverTableRow: 'gchart-table-hoverrow',\n",
       "                tableCell: 'gchart-table-cell',\n",
       "                headerCell: 'gchart-table-headercell',\n",
       "                rowNumberCell: 'gchart-table-rownumcell'\n",
       "              }\n",
       "            },\n",
       "            {source_index: 1, fields: 'num_significant_snps', legacy: 'true'},\n",
       "            0,\n",
       "            1);\n",
       "        }\n",
       "      );\n",
       "    </script>\n",
       "  "
      ],
      "text/plain": [
       "QueryResultsTable job_gkvQ2OrjBXoI4jc_7n9zhf83eUAS"
      ]
     },
     "execution_count": 22,
     "metadata": {},
     "output_type": "execute_result"
    }
   ],
   "source": [
    "%%sql \n",
    "SELECT COUNT(*) AS num_significant_snps\n",
    "FROM $results"
   ]
  },
  {
   "cell_type": "code",
   "execution_count": 23,
   "metadata": {
    "collapsed": false
   },
   "outputs": [
    {
     "data": {
      "text/html": [
       "\n",
       "          <script src=\"/static/components/requirejs/require.js\"></script>\n",
       "          <script>\n",
       "            requirejs.config({\n",
       "              paths: {\n",
       "                base: '/static/base',\n",
       "              },\n",
       "            });\n",
       "          </script>\n",
       "          "
      ],
      "text/plain": [
       "<IPython.core.display.HTML object>"
      ]
     },
     "metadata": {},
     "output_type": "display_data"
    }
   ],
   "source": [
    "%%sql --module sig_snps_dataset\n",
    "SELECT * FROM (\n",
    "  SELECT\n",
    "    reference_name,\n",
    "    start,\n",
    "    reference_bases,\n",
    "    alternate_bases,\n",
    "    chi_squared_score\n",
    "  FROM $results\n",
    "  LIMIT 1000\n",
    ")\n",
    "ORDER BY start asc"
   ]
  },
  {
   "cell_type": "code",
   "execution_count": 24,
   "metadata": {
    "collapsed": false
   },
   "outputs": [
    {
     "data": {
      "text/html": [
       "\n",
       "          <script src=\"/static/components/requirejs/require.js\"></script>\n",
       "          <script>\n",
       "            requirejs.config({\n",
       "              paths: {\n",
       "                base: '/static/base',\n",
       "              },\n",
       "            });\n",
       "          </script>\n",
       "          "
      ],
      "text/plain": [
       "<IPython.core.display.HTML object>"
      ]
     },
     "metadata": {},
     "output_type": "display_data"
    },
    {
     "data": {
      "text/html": [
       "<div>\n",
       "<table border=\"1\" class=\"dataframe\">\n",
       "  <thead>\n",
       "    <tr style=\"text-align: right;\">\n",
       "      <th></th>\n",
       "      <th>reference_name</th>\n",
       "      <th>start</th>\n",
       "      <th>reference_bases</th>\n",
       "      <th>alternate_bases</th>\n",
       "      <th>chi_squared_score</th>\n",
       "    </tr>\n",
       "  </thead>\n",
       "  <tbody>\n",
       "    <tr>\n",
       "      <th>0</th>\n",
       "      <td>12</td>\n",
       "      <td>1595431</td>\n",
       "      <td>A</td>\n",
       "      <td>G</td>\n",
       "      <td>744.125</td>\n",
       "    </tr>\n",
       "    <tr>\n",
       "      <th>1</th>\n",
       "      <td>12</td>\n",
       "      <td>1600977</td>\n",
       "      <td>A</td>\n",
       "      <td>T</td>\n",
       "      <td>828.910</td>\n",
       "    </tr>\n",
       "    <tr>\n",
       "      <th>2</th>\n",
       "      <td>12</td>\n",
       "      <td>2129565</td>\n",
       "      <td>C</td>\n",
       "      <td>T</td>\n",
       "      <td>711.515</td>\n",
       "    </tr>\n",
       "    <tr>\n",
       "      <th>3</th>\n",
       "      <td>12</td>\n",
       "      <td>2132494</td>\n",
       "      <td>T</td>\n",
       "      <td>C</td>\n",
       "      <td>753.874</td>\n",
       "    </tr>\n",
       "    <tr>\n",
       "      <th>4</th>\n",
       "      <td>12</td>\n",
       "      <td>2134197</td>\n",
       "      <td>A</td>\n",
       "      <td>G</td>\n",
       "      <td>822.961</td>\n",
       "    </tr>\n",
       "    <tr>\n",
       "      <th>5</th>\n",
       "      <td>12</td>\n",
       "      <td>2138687</td>\n",
       "      <td>C</td>\n",
       "      <td>A</td>\n",
       "      <td>706.309</td>\n",
       "    </tr>\n",
       "    <tr>\n",
       "      <th>6</th>\n",
       "      <td>12</td>\n",
       "      <td>2139264</td>\n",
       "      <td>A</td>\n",
       "      <td>C</td>\n",
       "      <td>769.534</td>\n",
       "    </tr>\n",
       "    <tr>\n",
       "      <th>7</th>\n",
       "      <td>12</td>\n",
       "      <td>2140624</td>\n",
       "      <td>T</td>\n",
       "      <td>C</td>\n",
       "      <td>704.880</td>\n",
       "    </tr>\n",
       "    <tr>\n",
       "      <th>8</th>\n",
       "      <td>12</td>\n",
       "      <td>2141908</td>\n",
       "      <td>C</td>\n",
       "      <td>T</td>\n",
       "      <td>790.150</td>\n",
       "    </tr>\n",
       "    <tr>\n",
       "      <th>9</th>\n",
       "      <td>12</td>\n",
       "      <td>6505528</td>\n",
       "      <td>T</td>\n",
       "      <td>G</td>\n",
       "      <td>768.788</td>\n",
       "    </tr>\n",
       "  </tbody>\n",
       "</table>\n",
       "</div>"
      ],
      "text/plain": [
       "  reference_name    start reference_bases alternate_bases  chi_squared_score\n",
       "0             12  1595431               A               G            744.125\n",
       "1             12  1600977               A               T            828.910\n",
       "2             12  2129565               C               T            711.515\n",
       "3             12  2132494               T               C            753.874\n",
       "4             12  2134197               A               G            822.961\n",
       "5             12  2138687               C               A            706.309\n",
       "6             12  2139264               A               C            769.534\n",
       "7             12  2140624               T               C            704.880\n",
       "8             12  2141908               C               T            790.150\n",
       "9             12  6505528               T               G            768.788"
      ]
     },
     "execution_count": 24,
     "metadata": {},
     "output_type": "execute_result"
    }
   ],
   "source": [
    "sig_snps = bq.Query(sig_snps_dataset, \n",
    "                    results=results,\n",
    "                    grouped_counts=grouped_counts,\n",
    "                    snps=snps,\n",
    "                    exp_groups=exp_groups,\n",
    "                    allele_counts=allele_counts,\n",
    "                    sample_info_table=sample_info_table,\n",
    "                    variants_table=variants_table).to_dataframe()\n",
    "\n",
    "sig_snps[:10]"
   ]
  },
  {
   "cell_type": "markdown",
   "metadata": {},
   "source": [
    "### Let's visualize the distribution of significant SNPs along the length of the chromosome.\n",
    "\n",
    "### The y-value of the charts indicates the Chi-squared score: larger values are more significant."
   ]
  },
  {
   "cell_type": "code",
   "execution_count": 25,
   "metadata": {
    "collapsed": false
   },
   "outputs": [
    {
     "data": {
      "text/html": [
       "\n",
       "          <script src=\"/static/components/requirejs/require.js\"></script>\n",
       "          <script>\n",
       "            requirejs.config({\n",
       "              paths: {\n",
       "                base: '/static/base',\n",
       "              },\n",
       "            });\n",
       "          </script>\n",
       "          "
      ],
      "text/plain": [
       "<IPython.core.display.HTML object>"
      ]
     },
     "metadata": {},
     "output_type": "display_data"
    },
    {
     "data": {
      "text/plain": [
       "<matplotlib.text.Text at 0x7fdc67ec0250>"
      ]
     },
     "execution_count": 25,
     "metadata": {},
     "output_type": "execute_result"
    },
    {
     "data": {
      "image/png": "[encoded data removed]",
      "text/plain": [
       "<matplotlib.figure.Figure at 0x7fdc67ec03d0>"
      ]
     },
     "metadata": {},
     "output_type": "display_data"
    }
   ],
   "source": [
    "import matplotlib.pyplot as plt\n",
    "import seaborn as sns\n",
    "\n",
    "#g = sns.distplot(sig_snps['start'], rug=False, hist=False, kde_kws=dict(bw=0.1))\n",
    "fig, ax = plt.subplots()\n",
    "ax.scatter(sig_snps['start'], sig_snps['chi_squared_score'], alpha=0.3, c='red')\n",
    "ax.set_ylabel('Chi-squared score')\n",
    "ax.set_xlabel('SNP position (bp)')"
   ]
  },
  {
   "cell_type": "markdown",
   "metadata": {},
   "source": [
    "### ok, now Let's zoom in on one region that contains a large number of very significant SNPs:"
   ]
  },
  {
   "cell_type": "code",
   "execution_count": 26,
   "metadata": {
    "collapsed": false
   },
   "outputs": [
    {
     "data": {
      "text/html": [
       "\n",
       "          <script src=\"/static/components/requirejs/require.js\"></script>\n",
       "          <script>\n",
       "            requirejs.config({\n",
       "              paths: {\n",
       "                base: '/static/base',\n",
       "              },\n",
       "            });\n",
       "          </script>\n",
       "          "
      ],
      "text/plain": [
       "<IPython.core.display.HTML object>"
      ]
     },
     "metadata": {},
     "output_type": "display_data"
    },
    {
     "data": {
      "text/plain": [
       "<matplotlib.text.Text at 0x7fdc6794ec90>"
      ]
     },
     "execution_count": 26,
     "metadata": {},
     "output_type": "execute_result"
    },
    {
     "data": {
      "image/png": "[encoded data removed]",
      "text/plain": [
       "<matplotlib.figure.Figure at 0x7fdc677f1bd0>"
      ]
     },
     "metadata": {},
     "output_type": "display_data"
    }
   ],
   "source": [
    "fig, ax = plt.subplots()\n",
    "ax.scatter(sig_snps['start'], sig_snps['chi_squared_score'], alpha=0.5, c='red')\n",
    "ax.set_xlim([3.3e7, 3.5e7])\n",
    "ax.set_ylabel('Chi-squared score')\n",
    "ax.set_xlabel('SNP position (bp)')"
   ]
  },
  {
   "cell_type": "markdown",
   "metadata": {},
   "source": [
    "### Further exploration of statistically significant variant positions:\n",
    "\n",
    "### We can take our analysis further by mapping selected variant positions back to the chromosome and visualizing call sets and reads. Let's retrieve 'The TOP ONE' SNP identified when ranked by the Chi-squared score:"
   ]
  },
  {
   "cell_type": "code",
   "execution_count": 27,
   "metadata": {
    "collapsed": false
   },
   "outputs": [
    {
     "data": {
      "text/html": [
       "\n",
       "          <script src=\"/static/components/requirejs/require.js\"></script>\n",
       "          <script>\n",
       "            requirejs.config({\n",
       "              paths: {\n",
       "                base: '/static/base',\n",
       "              },\n",
       "            });\n",
       "          </script>\n",
       "          "
      ],
      "text/plain": [
       "<IPython.core.display.HTML object>"
      ]
     },
     "metadata": {},
     "output_type": "display_data"
    }
   ],
   "source": [
    "%%sql --module top_snp\n",
    "SELECT start\n",
    "FROM $sig_snps_dataset\n",
    "ORDER BY chi_squared_score desc\n",
    "LIMIT 1"
   ]
  },
  {
   "cell_type": "code",
   "execution_count": 28,
   "metadata": {
    "collapsed": false
   },
   "outputs": [
    {
     "data": {
      "text/html": [
       "\n",
       "          <script src=\"/static/components/requirejs/require.js\"></script>\n",
       "          <script>\n",
       "            requirejs.config({\n",
       "              paths: {\n",
       "                base: '/static/base',\n",
       "              },\n",
       "            });\n",
       "          </script>\n",
       "          "
      ],
      "text/plain": [
       "<IPython.core.display.HTML object>"
      ]
     },
     "metadata": {},
     "output_type": "display_data"
    },
    {
     "data": {
      "text/html": [
       "\n",
       "    <div class=\"bqtv\" id=\"5_151555274481\"><table><tr><th>start</th></tr><tr><td>110571373</td></tr></table></div>\n",
       "    <br />(rows: 1, time: 34.7s,     1TB processed, job: job_H4Tz_zdpzKgMluoQJ-d51ZJJhVtq)<br />\n",
       "    <script>\n",
       "\n",
       "      require.config({\n",
       "        paths: {\n",
       "          d3: '//cdnjs.cloudflare.com/ajax/libs/d3/3.4.13/d3',\n",
       "          plotly: 'https://cdn.plot.ly/plotly-1.5.1.min.js?noext',\n",
       "          jquery: '//ajax.googleapis.com/ajax/libs/jquery/2.0.0/jquery.min'\n",
       "        },\n",
       "        map: {\n",
       "          '*': {\n",
       "            datalab: 'nbextensions/gcpdatalab'\n",
       "          }\n",
       "        },\n",
       "        shim: {\n",
       "          plotly: {\n",
       "            deps: ['d3', 'jquery'],\n",
       "            exports: 'plotly'\n",
       "          }\n",
       "        }\n",
       "      });\n",
       "\n",
       "      require(['datalab/charting', 'datalab/element!5_151555274481', 'base/js/events',\n",
       "          'datalab/style!/nbextensions/gcpdatalab/charting.css'],\n",
       "        function(charts, dom, events) {\n",
       "          charts.render('gcharts', dom, events, 'table', [], {\"rows\": [{\"c\": [{\"v\": 110571373}]}], \"cols\": [{\"type\": \"number\", \"id\": \"start\", \"label\": \"start\"}]},\n",
       "            {\n",
       "              pageSize: 25,\n",
       "              cssClassNames:  {\n",
       "                tableRow: 'gchart-table-row',\n",
       "                headerRow: 'gchart-table-headerrow',\n",
       "                oddTableRow: 'gchart-table-oddrow',\n",
       "                selectedTableRow: 'gchart-table-selectedrow',\n",
       "                hoverTableRow: 'gchart-table-hoverrow',\n",
       "                tableCell: 'gchart-table-cell',\n",
       "                headerCell: 'gchart-table-headercell',\n",
       "                rowNumberCell: 'gchart-table-rownumcell'\n",
       "              }\n",
       "            },\n",
       "            {source_index: 2, fields: 'start', legacy: 'true'},\n",
       "            0,\n",
       "            1);\n",
       "        }\n",
       "      );\n",
       "    </script>\n",
       "  "
      ],
      "text/plain": [
       "QueryResultsTable job_H4Tz_zdpzKgMluoQJ-d51ZJJhVtq"
      ]
     },
     "execution_count": 28,
     "metadata": {},
     "output_type": "execute_result"
    }
   ],
   "source": [
    "bq.Query(top_snp,\n",
    "         sig_snps_dataset=sig_snps_dataset,\n",
    "         results=results,\n",
    "         grouped_counts=grouped_counts,\n",
    "         snps=snps,\n",
    "         exp_groups=exp_groups,\n",
    "         allele_counts=allele_counts,\n",
    "         sample_info_table=sample_info_table,\n",
    "         variants_table=variants_table).results()"
   ]
  },
  {
   "cell_type": "markdown",
   "metadata": {},
   "source": [
    "### That is IT. The most meaninful SNP variant beteween my control (read HEALTHY) group and my test (read SICK) group and this is 'the most likely culprit' (again, in reality is more complex but for the sake of the demo let's say this is our Agatha Christie moment    "
   ]
  },
  {
   "cell_type": "markdown",
   "metadata": {},
   "source": [
    "### Now just to show  how the genome Browser looks let's the grab an arbitrary set of 10 callset IDs for rendering in the genome browser."
   ]
  },
  {
   "cell_type": "code",
   "execution_count": 29,
   "metadata": {
    "collapsed": false
   },
   "outputs": [
    {
     "data": {
      "text/html": [
       "\n",
       "          <script src=\"/static/components/requirejs/require.js\"></script>\n",
       "          <script>\n",
       "            requirejs.config({\n",
       "              paths: {\n",
       "                base: '/static/base',\n",
       "              },\n",
       "            });\n",
       "          </script>\n",
       "          "
      ],
      "text/plain": [
       "<IPython.core.display.HTML object>"
      ]
     },
     "metadata": {},
     "output_type": "display_data"
    }
   ],
   "source": [
    "%%sql --module callset_ids\n",
    "SELECT * FROM (\n",
    "  SELECT call.call_set_id AS callset_id\n",
    "  FROM $variants_table\n",
    "  GROUP BY callset_id)\n",
    "LIMIT 10"
   ]
  },
  {
   "cell_type": "code",
   "execution_count": 30,
   "metadata": {
    "collapsed": false
   },
   "outputs": [
    {
     "data": {
      "text/html": [
       "\n",
       "          <script src=\"/static/components/requirejs/require.js\"></script>\n",
       "          <script>\n",
       "            requirejs.config({\n",
       "              paths: {\n",
       "                base: '/static/base',\n",
       "              },\n",
       "            });\n",
       "          </script>\n",
       "          "
      ],
      "text/plain": [
       "<IPython.core.display.HTML object>"
      ]
     },
     "metadata": {},
     "output_type": "display_data"
    }
   ],
   "source": [
    "callsets_df = bq.Query(callset_ids, variants_table=variants_table).to_dataframe()\n",
    "callsets = list(callsets_df['callset_id'])"
   ]
  },
  {
   "cell_type": "code",
   "execution_count": 31,
   "metadata": {
    "collapsed": false
   },
   "outputs": [
    {
     "data": {
      "text/html": [
       "\n",
       "          <script src=\"/static/components/requirejs/require.js\"></script>\n",
       "          <script>\n",
       "            requirejs.config({\n",
       "              paths: {\n",
       "                base: '/static/base',\n",
       "              },\n",
       "            });\n",
       "          </script>\n",
       "          "
      ],
      "text/plain": [
       "<IPython.core.display.HTML object>"
      ]
     },
     "metadata": {},
     "output_type": "display_data"
    }
   ],
   "source": [
    "\n",
    "from IPython.display import HTML\n",
    "def gabrowse(dataset, reference_name, start_position, callset_ids):\n",
    "    callsets_query_params = ''.join('&callsetId=%s&cBackend=GOOGLE' % callset_id for callset_id in callset_ids)\n",
    "    url = ('https://gabrowse.appspot.com/#=&backend=GOOGLE&location=12%3A'\n",
    "         + str(start_position)\n",
    "         + callsets_query_params)\n",
    "    return HTML('<iframe src=\"%s\" width=1024 height=800></iframe>' % url)"
   ]
  },
  {
   "cell_type": "markdown",
   "metadata": {},
   "source": [
    "### Now we can render the call sets and reads for the selected SNP position by embedding the GABrowse application directly in our notebook."
   ]
  },
  {
   "cell_type": "code",
   "execution_count": 33,
   "metadata": {
    "collapsed": false
   },
   "outputs": [
    {
     "data": {
      "text/html": [
       "\n",
       "          <script src=\"/static/components/requirejs/require.js\"></script>\n",
       "          <script>\n",
       "            requirejs.config({\n",
       "              paths: {\n",
       "                base: '/static/base',\n",
       "              },\n",
       "            });\n",
       "          </script>\n",
       "          "
      ],
      "text/plain": [
       "<IPython.core.display.HTML object>"
      ]
     },
     "metadata": {},
     "output_type": "display_data"
    },
    {
     "data": {
      "text/html": [
       "<iframe src=\"https://gabrowse.appspot.com/#=&backend=GOOGLE&location=12%3A110571373&callsetId=10473108253681171589-23&cBackend=GOOGLE&callsetId=10473108253681171589-24&cBackend=GOOGLE&callsetId=10473108253681171589-41&cBackend=GOOGLE&callsetId=10473108253681171589-82&cBackend=GOOGLE&callsetId=10473108253681171589-116&cBackend=GOOGLE&callsetId=10473108253681171589-164&cBackend=GOOGLE&callsetId=10473108253681171589-188&cBackend=GOOGLE&callsetId=10473108253681171589-200&cBackend=GOOGLE&callsetId=10473108253681171589-218&cBackend=GOOGLE&callsetId=10473108253681171589-270&cBackend=GOOGLE\" width=1024 height=800></iframe>"
      ],
      "text/plain": [
       "<IPython.core.display.HTML object>"
      ]
     },
     "execution_count": 33,
     "metadata": {},
     "output_type": "execute_result"
    }
   ],
   "source": [
    "gabrowse('1000genomes', '12', 110571373, callsets)"
   ]
  },
  {
   "cell_type": "markdown",
   "metadata": {},
   "source": [
    "### TO SUMMARIZE IT ALL: \n",
    "### FIRST: this notebook illustrated how to run a genomic analysis pipeline on GCP \n",
    "### SECOND: how to conduct an entire GWAS experiment (which, for non-GCP users,  requires piping together 4 to 5 different tools and scripting the conections between the tools and the various languages et.c). \n",
    "### We accomplished both tasks from the same place (DATALAB) leaveraging many resources in the GCP Echosystem (GCS, GCE, GKE, BQ etc.) using publicly available VERY ALRGE variant data stored in BQ tables, and query it a AMAZING speed. Lastly after the filtering was done we imported a local copy of the most \"clinically meaningful results\" and visualized them with Python libraries. All from within one tool.\n"
   ]
  },
  {
   "cell_type": "code",
   "execution_count": null,
   "metadata": {
    "collapsed": true
   },
   "outputs": [],
   "source": []
  },
  {
   "cell_type": "code",
   "execution_count": null,
   "metadata": {
    "collapsed": true
   },
   "outputs": [],
   "source": []
  },
  {
   "cell_type": "code",
   "execution_count": null,
   "metadata": {
    "collapsed": true
   },
   "outputs": [],
   "source": []
  },
  {
   "cell_type": "markdown",
   "metadata": {},
   "source": []
  }
 ],
 "metadata": {
  "kernelspec": {
   "display_name": "Python 2",
   "language": "python",
   "name": "python2"
  },
  "language_info": {
   "codemirror_mode": {
    "name": "ipython",
    "version": 2
   },
   "file_extension": ".py",
   "mimetype": "text/x-python",
   "name": "python",
   "nbconvert_exporter": "python",
   "pygments_lexer": "ipython2",
   "version": "2.7.12"
  }
 },
 "nbformat": 4,
 "nbformat_minor": 2
}
