{
 "cells": [
  {
   "cell_type": "markdown",
   "metadata": {},
   "source": [
    "# GenX secondary analysis on GCP -  GATK with new config"
   ]
  },
  {
   "cell_type": "markdown",
   "metadata": {},
   "source": [
    "bring in all the code repos needed to config the pipeline"
   ]
  },
  {
   "cell_type": "code",
   "execution_count": null,
   "metadata": {},
   "outputs": [],
   "source": [
    "%bash\n",
    "git clone https://github.com/googlegenomics/pipelines-api-examples.git  #to run it on GCP\n",
    "git clone https://github.com/broadinstitute/wdl.git                     #the actual wdl scripts running the algos  \n",
    "git clone https://github.com/openwdl/wdl.git open_wdl                   # use a yaml from G (skip if you write your own)  "
   ]
  },
  {
   "cell_type": "markdown",
   "metadata": {},
   "source": [
    "verify "
   ]
  },
  {
   "cell_type": "code",
   "execution_count": 6,
   "metadata": {},
   "outputs": [
    {
     "name": "stdout",
     "output_type": "stream",
     "text": [
      "GATK_new.ipynb\ngen_venv\nopen_wdl\npipelines-api-examples\nwdl\n"
     ]
    }
   ],
   "source": [
    "%%bash\n",
    "ls"
   ]
  },
  {
   "cell_type": "code",
   "execution_count": 3,
   "metadata": {},
   "outputs": [
    {
     "data": {
      "text/plain": [
       "'/Users/sergiovillani/GenX'"
      ]
     },
     "execution_count": 3,
     "metadata": {},
     "output_type": "execute_result"
    }
   ],
   "source": [
    "pwd"
   ]
  },
  {
   "cell_type": "markdown",
   "metadata": {},
   "source": [
    "take a look at a sample input containing all the data to be analyzed"
   ]
  },
  {
   "cell_type": "code",
   "execution_count": 7,
   "metadata": {},
   "outputs": [
    {
     "name": "stdout",
     "output_type": "stream",
     "text": [
      "{\n  \"##_COMMENT1\": \"SAMPLE-SPECIFIC - MUST BE ADAPTED TO YOUR DATA !!! (fingerprint file is optional -- comment out if unavailable)\",\n  \"PairedEndSingleSampleWorkflow.sample_name\": \"NA12878\",\n  \"PairedEndSingleSampleWorkflow.base_file_name\": \"NA12878\",\n  \"PairedEndSingleSampleWorkflow.flowcell_unmapped_bams\": [\n    \"gs://genomics-public-data/test-data/dna/wgs/hiseq2500/NA12878/H06HDADXX130110.1.ATCACGAT.20k_reads.bam\",\n    \"gs://genomics-public-data/test-data/dna/wgs/hiseq2500/NA12878/H06HDADXX130110.2.ATCACGAT.20k_reads.bam\",\n    \"gs://genomics-public-data/test-data/dna/wgs/hiseq2500/NA12878/H06JUADXX130110.1.ATCACGAT.20k_reads.bam\"\n  ],\n  \"PairedEndSingleSampleWorkflow.final_gvcf_name\": \"NA12878.g.vcf.gz\",\n  \"PairedEndSingleSampleWorkflow.fingerprint_genotypes_file\": \"gs://dsde-data-na12878-public/NA12878.hg38.reference.fingerprint.vcf\",\n\n  \"##_COMMENT2\": \"INTERVALS\", \n  \"PairedEndSingleSampleWorkflow.wgs_calling_interval_list\": \"gs://broad-references/hg38/v0/wgs_calling_regions.hg38.interval_list\",\n  \"PairedEndSingleSampleWorkflow.wgs_coverage_interval_list\": \"gs://broad-references/hg38/v0/wgs_coverage_regions.hg38.interval_list\",\n  \"PairedEndSingleSampleWorkflow.wgs_evaluation_interval_list\": \"gs://broad-references/hg38/v0/wgs_evaluation_regions.hg38.interval_list\",\n\n  \"##_COMMENT2\": \"REFERENCE FILES\", \n  \"PairedEndSingleSampleWorkflow.ref_fasta\": \"gs://broad-references/hg38/v0/Homo_sapiens_assembly38.fasta\",\n  \"PairedEndSingleSampleWorkflow.ref_fasta_index\": \"gs://broad-references/hg38/v0/Homo_sapiens_assembly38.fasta.fai\",\n  \"PairedEndSingleSampleWorkflow.ref_dict\": \"gs://broad-references/hg38/v0/Homo_sapiens_assembly38.dict\",\n  \"PairedEndSingleSampleWorkflow.ref_alt\": \"gs://broad-references/hg38/v0/Homo_sapiens_assembly38.fasta.64.alt\",\n  \"PairedEndSingleSampleWorkflow.ref_amb\": \"gs://broad-references/hg38/v0/Homo_sapiens_assembly38.fasta.64.amb\",\n  \"PairedEndSingleSampleWorkflow.ref_ann\": \"gs://broad-references/hg38/v0/Homo_sapiens_assembly38.fasta.64.ann\",\n  \"PairedEndSingleSampleWorkflow.ref_bwt\": \"gs://broad-references/hg38/v0/Homo_sapiens_assembly38.fasta.64.bwt\",\n  \"PairedEndSingleSampleWorkflow.ref_pac\": \"gs://broad-references/hg38/v0/Homo_sapiens_assembly38.fasta.64.pac\",\n  \"PairedEndSingleSampleWorkflow.ref_sa\": \"gs://broad-references/hg38/v0/Homo_sapiens_assembly38.fasta.64.sa\",\n\n  \"##_COMMENT3\": \"KNOWN SITES RESOURCES\", \n  \"PairedEndSingleSampleWorkflow.dbSNP_vcf\": \"gs://broad-references/hg38/v0/Homo_sapiens_assembly38.dbsnp138.vcf\",\n  \"PairedEndSingleSampleWorkflow.dbSNP_vcf_index\": \"gs://broad-references/hg38/v0/Homo_sapiens_assembly38.dbsnp138.vcf.idx\",\n  \"PairedEndSingleSampleWorkflow.known_indels_sites_VCFs\": [\n  \t\"gs://broad-references/hg38/v0/Mills_and_1000G_gold_standard.indels.hg38.vcf.gz\",\n    \"gs://broad-references/hg38/v0/Homo_sapiens_assembly38.known_indels.vcf.gz\"\n  ],\n  \"PairedEndSingleSampleWorkflow.known_indels_sites_indices\": [\n    \"gs://broad-references/hg38/v0/Mills_and_1000G_gold_standard.indels.hg38.vcf.gz.tbi\",\n    \"gs://broad-references/hg38/v0/Homo_sapiens_assembly38.known_indels.vcf.gz.tbi\"\n  ],\n\n  \"##_COMMENT4\": \"QUALITY CONTROL RESOURCES\",\n  \"PairedEndSingleSampleWorkflow.contamination_sites_bed\": \"gs://broad-references/hg38/v0/Homo_sapiens_assembly38.contam.bed\",\n  \"PairedEndSingleSampleWorkflow.contamination_sites_mu\": \"gs://broad-references/hg38/v0/Homo_sapiens_assembly38.contam.mu\",\n  \"PairedEndSingleSampleWorkflow.contamination_sites_ud\": \"gs://broad-references/hg38/v0/Homo_sapiens_assembly38.contam.UD\",\n  \"##_PairedEndSingleSampleWorkflow.haplotype_database_file\": \"(optional) String?\",\n\n  \"##_COMMENT5\": \"MISC PARAMETERS\",\n  \"PairedEndSingleSampleWorkflow.unmapped_bam_suffix\": \".unmapped.bam\",\n  \"PairedEndSingleSampleWorkflow.haplotype_scatter_count\": 50,\n  \"PairedEndSingleSampleWorkflow.break_bands_at_multiples_of\": 1000000,\n  \"##_PairedEndSingleSampleWorkflow.read_length\": \"(optional) Int?\",\n  \"##_PairedEndSingleSampleWorkflow.MarkDuplicates.read_name_regex\": \"(optional) String?\",\n  \n  \"##_COMMENT6\": \"RUNTIME PARAMETERS\",\n  \"PairedEndSingleSampleWorkflow.agg_preemptible_tries\": 3,\n  \"PairedEndSingleSampleWorkflow.preemptible_tries\": 3,\n  \"##_PairedEndSingleSampleWorkflow.increase_disk_size\": \"(optional) Int?\"\n}\n"
     ]
    }
   ],
   "source": [
    "%%bash\n",
    "cat wdl/scripts/broad_pipelines/germline-short-variant-discovery/gvcf-generation-per-sample/1.0.0/GOTC_PairedEndSingleSampleWf.inputs.json"
   ]
  },
  {
   "cell_type": "markdown",
   "metadata": {},
   "source": [
    "take a look at the config file"
   ]
  },
  {
   "cell_type": "code",
   "execution_count": 9,
   "metadata": {},
   "outputs": [
    {
     "name": "stdout",
     "output_type": "stream",
     "text": [
      "name: WDL Runner\ndescription: Run a workflow defined by a WDL file\n\ninputParameters:\n- name: WDL\n  description: Workflow definition\n- name: WORKFLOW_INPUTS\n  description: Workflow inputs\n- name: WORKFLOW_OPTIONS\n  description: Workflow options\n\n- name: WORKSPACE\n  description: Cloud Storage path for intermediate files\n- name: OUTPUTS\n  description: Cloud Storage path for output files\n\ndocker:\n  imageName: gcr.io/broad-dsde-outreach/wdl_runner:2017_10_02\n\n  cmd: >\n    /wdl_runner/wdl_runner.sh\n\nresources:\n  minimumRamGb: 3.75\n"
     ]
    }
   ],
   "source": [
    "%%bash\n",
    "cat open_wdl/runners/cromwell_on_google/wdl_runner/wdl_pipeline.yaml \\"
   ]
  },
  {
   "cell_type": "markdown",
   "metadata": {},
   "source": [
    "create bucket (if you don't have it)"
   ]
  },
  {
   "cell_type": "code",
   "execution_count": 10,
   "metadata": {},
   "outputs": [
    {
     "name": "stdout",
     "output_type": "stream",
     "text": [
      "gs://sv-ml-sandbox/\ngs://sv-tf-model-1/\ngs://sv-vdv-output1/\n"
     ]
    }
   ],
   "source": [
    "%%bash\n",
    "gsutil ls"
   ]
  },
  {
   "cell_type": "markdown",
   "metadata": {},
   "source": [
    "look at the output results"
   ]
  },
  {
   "cell_type": "markdown",
   "metadata": {},
   "source": [
    "configure the pipeline and kick it off"
   ]
  },
  {
   "cell_type": "code",
   "execution_count": 5,
   "metadata": {},
   "outputs": [
    {
     "name": "stdout",
     "output_type": "stream",
     "text": [
      "README.md\r\n"
     ]
    }
   ],
   "source": [
    "%%bash\n",
    "\n",
    "gcloud alpha genomics pipelines run \\\n",
    "  --pipeline-file /content/datalab/docs/wdl/runners/cromwell_on_google/wdl_runner/wdl_pipeline.yaml \\\n",
    "  --zones us-central1-f \\\n",
    "  --memory 5 \\\n",
    "  --logging gs://sv-ml-sandbox/logging \\\n",
    "  --inputs-from-file WDL=/content/datalab/docs/intro/wdl/scripts/broad_pipelines/germline-short-variant-discovery/gvcf-generation-per-sample/0.2.0/PublicPairedSingleSampleWf_170412.wdl \\\n",
    "  --inputs-from-file WORKFLOW_INPUTS=/content/datalab/docs/intro/wdl/scripts/broad_pipelines/germline-short-variant-discovery/gvcf-generation-per-sample/0.2.0/PublicPairedSingleSampleWf_170412.inputs.json \\\n",
    "  --inputs-from-file WORKFLOW_OPTIONS=/content/datalab/docs/intro/wdl/scripts/broad_pipelines/germline-short-variant-discovery/gvcf-generation-per-sample/0.2.0/PublicPairedSingleSampleWf_170412.options.json\\\n",
    "  --inputs WORKSPACE=gs://sv-ml-sandbox/workspace \\\n",
    "  --inputs OUTPUTS=gs://sv-ml-sandbox/outputs"
   ]
  },
  {
   "cell_type": "markdown",
   "metadata": {},
   "source": [
    "verify status of pipeline"
   ]
  },
  {
   "cell_type": "code",
   "execution_count": 11,
   "metadata": {},
   "outputs": [
    {
     "name": "stdout",
     "output_type": "stream",
     "text": [
      "done: true\nmetadata:\n  events:\n  - description: start\n    startTime: '2018-01-03T20:45:28.418045346Z'\n  - description: pulling-image\n    startTime: '2018-01-03T20:45:28.418091802Z'\n  - description: localizing-files\n    startTime: '2018-01-03T20:46:02.330034206Z'\n  - description: running-docker\n    startTime: '2018-01-03T20:46:02.330074057Z'\n  - description: delocalizing-files\n    startTime: '2018-01-04T00:03:35.482525370Z'\n  - description: ok\n    startTime: '2018-01-04T00:03:36.486153745Z'\n"
     ]
    }
   ],
   "source": [
    "%%bash \n",
    "gcloud alpha genomics operations describe EIPhlO6LLBjz6K6O9PS7-gMg4r3yw4IMKg9wcm9kdWN0aW9uUXVldWU --format='yaml(done, error, metadata.events)'"
   ]
  },
  {
   "cell_type": "markdown",
   "metadata": {},
   "source": [
    "verify pipeline stages on the pantheon  and in the bucket"
   ]
  },
  {
   "cell_type": "code",
   "execution_count": 12,
   "metadata": {},
   "outputs": [
    {
     "name": "stdout",
     "output_type": "stream",
     "text": [
      "gs://sv-ml-sandbox/logging/\ngs://sv-ml-sandbox/outputs/\ngs://sv-ml-sandbox/workspace/\n"
     ]
    }
   ],
   "source": [
    "%%bash\n",
    "gsutil ls gs://sv-ml-sandbox"
   ]
  },
  {
   "cell_type": "markdown",
   "metadata": {},
   "source": [
    "look at the output results"
   ]
  },
  {
   "cell_type": "code",
   "execution_count": 13,
   "metadata": {},
   "outputs": [
    {
     "name": "stdout",
     "output_type": "stream",
     "text": [
      "gs://sv-ml-sandbox/outputs/H06HDADXX130110.1.ATCACGAT.20k_reads.readgroup.base_distribution_by_cycle.pdf\ngs://sv-ml-sandbox/outputs/H06HDADXX130110.1.ATCACGAT.20k_reads.readgroup.base_distribution_by_cycle_metrics\ngs://sv-ml-sandbox/outputs/H06HDADXX130110.1.ATCACGAT.20k_reads.readgroup.insert_size_histogram.pdf\ngs://sv-ml-sandbox/outputs/H06HDADXX130110.1.ATCACGAT.20k_reads.readgroup.insert_size_metrics\ngs://sv-ml-sandbox/outputs/H06HDADXX130110.1.ATCACGAT.20k_reads.readgroup.quality_by_cycle.pdf\ngs://sv-ml-sandbox/outputs/H06HDADXX130110.1.ATCACGAT.20k_reads.readgroup.quality_by_cycle_metrics\ngs://sv-ml-sandbox/outputs/H06HDADXX130110.1.ATCACGAT.20k_reads.readgroup.quality_distribution.pdf\ngs://sv-ml-sandbox/outputs/H06HDADXX130110.1.ATCACGAT.20k_reads.readgroup.quality_distribution_metrics\ngs://sv-ml-sandbox/outputs/H06HDADXX130110.1.ATCACGAT.20k_reads.unmapped.quality_yield_metrics\ngs://sv-ml-sandbox/outputs/H06HDADXX130110.1.ATCACGAT.20k_reads.validation_report\ngs://sv-ml-sandbox/outputs/H06HDADXX130110.2.ATCACGAT.20k_reads.readgroup.base_distribution_by_cycle.pdf\ngs://sv-ml-sandbox/outputs/H06HDADXX130110.2.ATCACGAT.20k_reads.readgroup.base_distribution_by_cycle_metrics\ngs://sv-ml-sandbox/outputs/H06HDADXX130110.2.ATCACGAT.20k_reads.readgroup.insert_size_histogram.pdf\ngs://sv-ml-sandbox/outputs/H06HDADXX130110.2.ATCACGAT.20k_reads.readgroup.insert_size_metrics\ngs://sv-ml-sandbox/outputs/H06HDADXX130110.2.ATCACGAT.20k_reads.readgroup.quality_by_cycle.pdf\ngs://sv-ml-sandbox/outputs/H06HDADXX130110.2.ATCACGAT.20k_reads.readgroup.quality_by_cycle_metrics\ngs://sv-ml-sandbox/outputs/H06HDADXX130110.2.ATCACGAT.20k_reads.readgroup.quality_distribution.pdf\ngs://sv-ml-sandbox/outputs/H06HDADXX130110.2.ATCACGAT.20k_reads.readgroup.quality_distribution_metrics\ngs://sv-ml-sandbox/outputs/H06HDADXX130110.2.ATCACGAT.20k_reads.unmapped.quality_yield_metrics\ngs://sv-ml-sandbox/outputs/H06HDADXX130110.2.ATCACGAT.20k_reads.validation_report\ngs://sv-ml-sandbox/outputs/H06JUADXX130110.1.ATCACGAT.20k_reads.readgroup.base_distribution_by_cycle.pdf\ngs://sv-ml-sandbox/outputs/H06JUADXX130110.1.ATCACGAT.20k_reads.readgroup.base_distribution_by_cycle_metrics\ngs://sv-ml-sandbox/outputs/H06JUADXX130110.1.ATCACGAT.20k_reads.readgroup.insert_size_histogram.pdf\ngs://sv-ml-sandbox/outputs/H06JUADXX130110.1.ATCACGAT.20k_reads.readgroup.insert_size_metrics\ngs://sv-ml-sandbox/outputs/H06JUADXX130110.1.ATCACGAT.20k_reads.readgroup.quality_by_cycle.pdf\ngs://sv-ml-sandbox/outputs/H06JUADXX130110.1.ATCACGAT.20k_reads.readgroup.quality_by_cycle_metrics\ngs://sv-ml-sandbox/outputs/H06JUADXX130110.1.ATCACGAT.20k_reads.readgroup.quality_distribution.pdf\ngs://sv-ml-sandbox/outputs/H06JUADXX130110.1.ATCACGAT.20k_reads.readgroup.quality_distribution_metrics\ngs://sv-ml-sandbox/outputs/H06JUADXX130110.1.ATCACGAT.20k_reads.unmapped.quality_yield_metrics\ngs://sv-ml-sandbox/outputs/H06JUADXX130110.1.ATCACGAT.20k_reads.validation_report\ngs://sv-ml-sandbox/outputs/NA12878.g.vcf.gz\ngs://sv-ml-sandbox/outputs/NA12878.g.vcf.gz.tbi\ngs://sv-ml-sandbox/outputs/NA12878_20k.aligned.duplicates_marked.recalibrated.bam.read_group_md5\ngs://sv-ml-sandbox/outputs/NA12878_20k.alignment_summary_metrics\ngs://sv-ml-sandbox/outputs/NA12878_20k.bait_bias_detail_metrics\ngs://sv-ml-sandbox/outputs/NA12878_20k.bait_bias_summary_metrics\ngs://sv-ml-sandbox/outputs/NA12878_20k.bam.roundtrip.validation_report\ngs://sv-ml-sandbox/outputs/NA12878_20k.crai\ngs://sv-ml-sandbox/outputs/NA12878_20k.cram\ngs://sv-ml-sandbox/outputs/NA12878_20k.cram.md5\ngs://sv-ml-sandbox/outputs/NA12878_20k.crosscheck\ngs://sv-ml-sandbox/outputs/NA12878_20k.duplicate_metrics\ngs://sv-ml-sandbox/outputs/NA12878_20k.fingerprinting_detail_metrics\ngs://sv-ml-sandbox/outputs/NA12878_20k.fingerprinting_summary_metrics\ngs://sv-ml-sandbox/outputs/NA12878_20k.gc_bias.detail_metrics\ngs://sv-ml-sandbox/outputs/NA12878_20k.gc_bias.pdf\ngs://sv-ml-sandbox/outputs/NA12878_20k.gc_bias.summary_metrics\ngs://sv-ml-sandbox/outputs/NA12878_20k.insert_size_histogram.pdf\ngs://sv-ml-sandbox/outputs/NA12878_20k.insert_size_metrics\ngs://sv-ml-sandbox/outputs/NA12878_20k.preBqsr.depthSM\ngs://sv-ml-sandbox/outputs/NA12878_20k.preBqsr.log\ngs://sv-ml-sandbox/outputs/NA12878_20k.preBqsr.selfSM\ngs://sv-ml-sandbox/outputs/NA12878_20k.pre_adapter_detail_metrics\ngs://sv-ml-sandbox/outputs/NA12878_20k.pre_adapter_summary_metrics\ngs://sv-ml-sandbox/outputs/NA12878_20k.quality_distribution.pdf\ngs://sv-ml-sandbox/outputs/NA12878_20k.quality_distribution_metrics\ngs://sv-ml-sandbox/outputs/NA12878_20k.raw_wgs_metrics\ngs://sv-ml-sandbox/outputs/NA12878_20k.readgroup.alignment_summary_metrics\ngs://sv-ml-sandbox/outputs/NA12878_20k.readgroup.gc_bias.detail_metrics\ngs://sv-ml-sandbox/outputs/NA12878_20k.readgroup.gc_bias.pdf\ngs://sv-ml-sandbox/outputs/NA12878_20k.readgroup.gc_bias.summary_metrics\ngs://sv-ml-sandbox/outputs/NA12878_20k.recal_data.csv\ngs://sv-ml-sandbox/outputs/NA12878_20k.validation_report\ngs://sv-ml-sandbox/outputs/NA12878_20k.variant_calling_detail_metrics\ngs://sv-ml-sandbox/outputs/NA12878_20k.variant_calling_summary_metrics\ngs://sv-ml-sandbox/outputs/NA12878_20k.wgs_metrics\ngs://sv-ml-sandbox/outputs/wdl_run_metadata.json\n"
     ]
    }
   ],
   "source": [
    "%%bash\n",
    "gsutil ls gs://sv-ml-sandbox/outputs"
   ]
  },
  {
   "cell_type": "code",
   "execution_count": null,
   "metadata": {},
   "outputs": [],
   "source": []
  }
 ],
 "metadata": {
  "kernelspec": {
   "display_name": "Python 3",
   "language": "python",
   "name": "python3"
  },
  "language_info": {
   "codemirror_mode": {
    "name": "ipython",
    "version": 3
   },
   "file_extension": ".py",
   "mimetype": "text/x-python",
   "name": "python",
   "nbconvert_exporter": "python",
   "pygments_lexer": "ipython3",
   "version": "3.6.3"
  }
 },
 "nbformat": 4,
 "nbformat_minor": 2
}
